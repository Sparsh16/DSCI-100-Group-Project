{
 "cells": [
  {
   "cell_type": "markdown",
   "metadata": {},
   "source": [
    "## Discriminating Between Sonar Signals Bounced Off a Metal Cylinder and Those Bounced Off a Roughly Cylindrical Rock"
   ]
  },
  {
   "cell_type": "markdown",
   "metadata": {},
   "source": [
    "## 1. Introduction"
   ]
  },
  {
   "cell_type": "markdown",
   "metadata": {},
   "source": [
    "Sonar is a technique that uses sound propagation characteristics to detect objects by emitting sound pulses and detecting or measuring their return after reflection, used as a means of acoustic location by measuring the echo characteristics of the object. Our project is based on identifying the differences between the sonar returns from an undersea metal cylinder and a cylindrically shaped rock.\n",
    "\n",
    "In our research we are trying to determine if there is any difference between the Sonar signals bounced off a metal cylinder and those bounced off a cylindrical rock. Thus, the question we will try to answer in our project: Is the object that bounces off a chosen sonar signal a metal cylinder or a cylindrical rock?\n",
    "\n",
    "The dataset we will use contains signals bounced off a metal cylinder and a roughly cyclindrical rock obtained from a variety of different aspect angles. The angles spanned from 0 to 90 degrees for the metal cylinder and 0 to 180 degrees for the rock. The dataset does not list the explict aspect angles and states that the angles are not equally spaced apart. Thus each of the angles will be named AA_$n$ where $n$ is the $n$th variable. This is to reflect the fact that the angles do not have an explicit degree. The dataset does not list units for the return signal."
   ]
  },
  {
   "cell_type": "markdown",
   "metadata": {},
   "source": [
    "## 2. Methods and Results"
   ]
  },
  {
   "cell_type": "markdown",
   "metadata": {},
   "source": [
    "In this project, we will be using K-nearest neighbor classification algorithm.\n",
    "\n",
    "First, all the necessary packages were loaded using the library function. Using the read_csv function, the dataset was downloaded from the University of California Irvin's archives (Dua and Graff, 2019).\n",
    "\n",
    "The set.seed function allows the results to be reproducible.\n",
    "\n",
    "Since the original data set does not contain the column names, we named from the first columns to the 60th columns as from AA_1 to AA_60 respectively. We named the last column as Rocks_or_Mines, indicating whether the material that bounces off the sonar signals is a rock or mine.\n",
    "\n",
    "Next, since we need to predict classification, we converted the column Rocks_or_Mines into a factor value."
   ]
  },
  {
   "cell_type": "code",
   "execution_count": null,
   "metadata": {},
   "outputs": [],
   "source": [
    "options(warn=-1)\n",
    "library(tidyverse)\n",
    "library(tidymodels)\n",
    "library(readxl)\n",
    "library(repr)\n",
    "options(repr.matrix.max.rows = 6)"
   ]
  },
  {
   "cell_type": "code",
   "execution_count": null,
   "metadata": {},
   "outputs": [],
   "source": [
    "sonar <- read_csv(\"https://archive.ics.uci.edu/ml/machine-learning-databases/undocumented/connectionist-bench/sonar/sonar.all-data\",\n",
    "                  col_names = FALSE)\n",
    "\n",
    "set.seed(2022)\n",
    "\n",
    "sonar_column_names <- c()\n",
    "for (i  in 1:60) {sonar_column_names <- c(sonar_column_names, paste(\"AA\", as.character(i), sep = \"_\"))}\n",
    "sonar_column_names <- c(sonar_column_names, \"Rocks_or_Mines\")\n",
    "colnames(sonar) <- sonar_column_names\n",
    "\n",
    "sonar <- sonar %>% \n",
    "         mutate(Rocks_or_Mines = as_factor(Rocks_or_Mines)) %>%\n",
    "         mutate(Rocks_or_Mines = recode(Rocks_or_Mines, R = \"Rock\", M = \"Metal\"))\n",
    "print(\"Table 1: Sonar Data\")\n",
    "head(sonar)"
   ]
  },
  {
   "cell_type": "code",
   "execution_count": 3,
   "metadata": {},
   "outputs": [
    {
     "name": "stdout",
     "output_type": "stream",
     "text": [
      "[1] \"Table 2: Sonar Training Dataset\"\n"
     ]
    },
    {
     "data": {
      "text/html": [
       "<table>\n",
       "<caption>A tibble: 157 × 61</caption>\n",
       "<thead>\n",
       "\t<tr><th scope=col>AA_1</th><th scope=col>AA_2</th><th scope=col>AA_3</th><th scope=col>AA_4</th><th scope=col>AA_5</th><th scope=col>AA_6</th><th scope=col>AA_7</th><th scope=col>AA_8</th><th scope=col>AA_9</th><th scope=col>AA_10</th><th scope=col>⋯</th><th scope=col>AA_52</th><th scope=col>AA_53</th><th scope=col>AA_54</th><th scope=col>AA_55</th><th scope=col>AA_56</th><th scope=col>AA_57</th><th scope=col>AA_58</th><th scope=col>AA_59</th><th scope=col>AA_60</th><th scope=col>Rocks_or_Mines</th></tr>\n",
       "\t<tr><th scope=col>&lt;dbl&gt;</th><th scope=col>&lt;dbl&gt;</th><th scope=col>&lt;dbl&gt;</th><th scope=col>&lt;dbl&gt;</th><th scope=col>&lt;dbl&gt;</th><th scope=col>&lt;dbl&gt;</th><th scope=col>&lt;dbl&gt;</th><th scope=col>&lt;dbl&gt;</th><th scope=col>&lt;dbl&gt;</th><th scope=col>&lt;dbl&gt;</th><th scope=col>⋯</th><th scope=col>&lt;dbl&gt;</th><th scope=col>&lt;dbl&gt;</th><th scope=col>&lt;dbl&gt;</th><th scope=col>&lt;dbl&gt;</th><th scope=col>&lt;dbl&gt;</th><th scope=col>&lt;dbl&gt;</th><th scope=col>&lt;dbl&gt;</th><th scope=col>&lt;dbl&gt;</th><th scope=col>&lt;dbl&gt;</th><th scope=col>&lt;fct&gt;</th></tr>\n",
       "</thead>\n",
       "<tbody>\n",
       "\t<tr><td>0.0453</td><td>0.0523</td><td>0.0843</td><td>0.0689</td><td>0.1183</td><td>0.2583</td><td>0.2156</td><td>0.3481</td><td>0.3337</td><td>0.2872</td><td>⋯</td><td>0.0084</td><td>0.0089</td><td>0.0048</td><td>0.0094</td><td>0.0191</td><td>0.0140</td><td>0.0049</td><td>0.0052</td><td>0.0044</td><td>Rock</td></tr>\n",
       "\t<tr><td>0.0100</td><td>0.0171</td><td>0.0623</td><td>0.0205</td><td>0.0205</td><td>0.0368</td><td>0.1098</td><td>0.1276</td><td>0.0598</td><td>0.1264</td><td>⋯</td><td>0.0121</td><td>0.0036</td><td>0.0150</td><td>0.0085</td><td>0.0073</td><td>0.0050</td><td>0.0044</td><td>0.0040</td><td>0.0117</td><td>Rock</td></tr>\n",
       "\t<tr><td>0.0762</td><td>0.0666</td><td>0.0481</td><td>0.0394</td><td>0.0590</td><td>0.0649</td><td>0.1209</td><td>0.2467</td><td>0.3564</td><td>0.4459</td><td>⋯</td><td>0.0031</td><td>0.0054</td><td>0.0105</td><td>0.0110</td><td>0.0015</td><td>0.0072</td><td>0.0048</td><td>0.0107</td><td>0.0094</td><td>Rock</td></tr>\n",
       "\t<tr><td>⋮</td><td>⋮</td><td>⋮</td><td>⋮</td><td>⋮</td><td>⋮</td><td>⋮</td><td>⋮</td><td>⋮</td><td>⋮</td><td>⋱</td><td>⋮</td><td>⋮</td><td>⋮</td><td>⋮</td><td>⋮</td><td>⋮</td><td>⋮</td><td>⋮</td><td>⋮</td><td>⋮</td></tr>\n",
       "\t<tr><td>0.0272</td><td>0.0378</td><td>0.0488</td><td>0.0848</td><td>0.1127</td><td>0.1103</td><td>0.1349</td><td>0.2337</td><td>0.3113</td><td>0.3997</td><td>⋯</td><td>0.0091</td><td>0.0045</td><td>0.0043</td><td>0.0043</td><td>0.0098</td><td>0.0054</td><td>0.0051</td><td>0.0065</td><td>0.0103</td><td>Metal</td></tr>\n",
       "\t<tr><td>0.0187</td><td>0.0346</td><td>0.0168</td><td>0.0177</td><td>0.0393</td><td>0.1630</td><td>0.2028</td><td>0.1694</td><td>0.2328</td><td>0.2684</td><td>⋯</td><td>0.0116</td><td>0.0098</td><td>0.0199</td><td>0.0033</td><td>0.0101</td><td>0.0065</td><td>0.0115</td><td>0.0193</td><td>0.0157</td><td>Metal</td></tr>\n",
       "\t<tr><td>0.0260</td><td>0.0363</td><td>0.0136</td><td>0.0272</td><td>0.0214</td><td>0.0338</td><td>0.0655</td><td>0.1400</td><td>0.1843</td><td>0.2354</td><td>⋯</td><td>0.0146</td><td>0.0129</td><td>0.0047</td><td>0.0039</td><td>0.0061</td><td>0.0040</td><td>0.0036</td><td>0.0061</td><td>0.0115</td><td>Metal</td></tr>\n",
       "</tbody>\n",
       "</table>\n"
      ],
      "text/latex": [
       "A tibble: 157 × 61\n",
       "\\begin{tabular}{lllllllllllllllllllll}\n",
       " AA\\_1 & AA\\_2 & AA\\_3 & AA\\_4 & AA\\_5 & AA\\_6 & AA\\_7 & AA\\_8 & AA\\_9 & AA\\_10 & ⋯ & AA\\_52 & AA\\_53 & AA\\_54 & AA\\_55 & AA\\_56 & AA\\_57 & AA\\_58 & AA\\_59 & AA\\_60 & Rocks\\_or\\_Mines\\\\\n",
       " <dbl> & <dbl> & <dbl> & <dbl> & <dbl> & <dbl> & <dbl> & <dbl> & <dbl> & <dbl> & ⋯ & <dbl> & <dbl> & <dbl> & <dbl> & <dbl> & <dbl> & <dbl> & <dbl> & <dbl> & <fct>\\\\\n",
       "\\hline\n",
       "\t 0.0453 & 0.0523 & 0.0843 & 0.0689 & 0.1183 & 0.2583 & 0.2156 & 0.3481 & 0.3337 & 0.2872 & ⋯ & 0.0084 & 0.0089 & 0.0048 & 0.0094 & 0.0191 & 0.0140 & 0.0049 & 0.0052 & 0.0044 & Rock\\\\\n",
       "\t 0.0100 & 0.0171 & 0.0623 & 0.0205 & 0.0205 & 0.0368 & 0.1098 & 0.1276 & 0.0598 & 0.1264 & ⋯ & 0.0121 & 0.0036 & 0.0150 & 0.0085 & 0.0073 & 0.0050 & 0.0044 & 0.0040 & 0.0117 & Rock\\\\\n",
       "\t 0.0762 & 0.0666 & 0.0481 & 0.0394 & 0.0590 & 0.0649 & 0.1209 & 0.2467 & 0.3564 & 0.4459 & ⋯ & 0.0031 & 0.0054 & 0.0105 & 0.0110 & 0.0015 & 0.0072 & 0.0048 & 0.0107 & 0.0094 & Rock\\\\\n",
       "\t ⋮ & ⋮ & ⋮ & ⋮ & ⋮ & ⋮ & ⋮ & ⋮ & ⋮ & ⋮ & ⋱ & ⋮ & ⋮ & ⋮ & ⋮ & ⋮ & ⋮ & ⋮ & ⋮ & ⋮ & ⋮\\\\\n",
       "\t 0.0272 & 0.0378 & 0.0488 & 0.0848 & 0.1127 & 0.1103 & 0.1349 & 0.2337 & 0.3113 & 0.3997 & ⋯ & 0.0091 & 0.0045 & 0.0043 & 0.0043 & 0.0098 & 0.0054 & 0.0051 & 0.0065 & 0.0103 & Metal\\\\\n",
       "\t 0.0187 & 0.0346 & 0.0168 & 0.0177 & 0.0393 & 0.1630 & 0.2028 & 0.1694 & 0.2328 & 0.2684 & ⋯ & 0.0116 & 0.0098 & 0.0199 & 0.0033 & 0.0101 & 0.0065 & 0.0115 & 0.0193 & 0.0157 & Metal\\\\\n",
       "\t 0.0260 & 0.0363 & 0.0136 & 0.0272 & 0.0214 & 0.0338 & 0.0655 & 0.1400 & 0.1843 & 0.2354 & ⋯ & 0.0146 & 0.0129 & 0.0047 & 0.0039 & 0.0061 & 0.0040 & 0.0036 & 0.0061 & 0.0115 & Metal\\\\\n",
       "\\end{tabular}\n"
      ],
      "text/markdown": [
       "\n",
       "A tibble: 157 × 61\n",
       "\n",
       "| AA_1 &lt;dbl&gt; | AA_2 &lt;dbl&gt; | AA_3 &lt;dbl&gt; | AA_4 &lt;dbl&gt; | AA_5 &lt;dbl&gt; | AA_6 &lt;dbl&gt; | AA_7 &lt;dbl&gt; | AA_8 &lt;dbl&gt; | AA_9 &lt;dbl&gt; | AA_10 &lt;dbl&gt; | ⋯ ⋯ | AA_52 &lt;dbl&gt; | AA_53 &lt;dbl&gt; | AA_54 &lt;dbl&gt; | AA_55 &lt;dbl&gt; | AA_56 &lt;dbl&gt; | AA_57 &lt;dbl&gt; | AA_58 &lt;dbl&gt; | AA_59 &lt;dbl&gt; | AA_60 &lt;dbl&gt; | Rocks_or_Mines &lt;fct&gt; |\n",
       "|---|---|---|---|---|---|---|---|---|---|---|---|---|---|---|---|---|---|---|---|---|\n",
       "| 0.0453 | 0.0523 | 0.0843 | 0.0689 | 0.1183 | 0.2583 | 0.2156 | 0.3481 | 0.3337 | 0.2872 | ⋯ | 0.0084 | 0.0089 | 0.0048 | 0.0094 | 0.0191 | 0.0140 | 0.0049 | 0.0052 | 0.0044 | Rock |\n",
       "| 0.0100 | 0.0171 | 0.0623 | 0.0205 | 0.0205 | 0.0368 | 0.1098 | 0.1276 | 0.0598 | 0.1264 | ⋯ | 0.0121 | 0.0036 | 0.0150 | 0.0085 | 0.0073 | 0.0050 | 0.0044 | 0.0040 | 0.0117 | Rock |\n",
       "| 0.0762 | 0.0666 | 0.0481 | 0.0394 | 0.0590 | 0.0649 | 0.1209 | 0.2467 | 0.3564 | 0.4459 | ⋯ | 0.0031 | 0.0054 | 0.0105 | 0.0110 | 0.0015 | 0.0072 | 0.0048 | 0.0107 | 0.0094 | Rock |\n",
       "| ⋮ | ⋮ | ⋮ | ⋮ | ⋮ | ⋮ | ⋮ | ⋮ | ⋮ | ⋮ | ⋱ | ⋮ | ⋮ | ⋮ | ⋮ | ⋮ | ⋮ | ⋮ | ⋮ | ⋮ | ⋮ |\n",
       "| 0.0272 | 0.0378 | 0.0488 | 0.0848 | 0.1127 | 0.1103 | 0.1349 | 0.2337 | 0.3113 | 0.3997 | ⋯ | 0.0091 | 0.0045 | 0.0043 | 0.0043 | 0.0098 | 0.0054 | 0.0051 | 0.0065 | 0.0103 | Metal |\n",
       "| 0.0187 | 0.0346 | 0.0168 | 0.0177 | 0.0393 | 0.1630 | 0.2028 | 0.1694 | 0.2328 | 0.2684 | ⋯ | 0.0116 | 0.0098 | 0.0199 | 0.0033 | 0.0101 | 0.0065 | 0.0115 | 0.0193 | 0.0157 | Metal |\n",
       "| 0.0260 | 0.0363 | 0.0136 | 0.0272 | 0.0214 | 0.0338 | 0.0655 | 0.1400 | 0.1843 | 0.2354 | ⋯ | 0.0146 | 0.0129 | 0.0047 | 0.0039 | 0.0061 | 0.0040 | 0.0036 | 0.0061 | 0.0115 | Metal |\n",
       "\n"
      ],
      "text/plain": [
       "    AA_1   AA_2   AA_3   AA_4   AA_5   AA_6   AA_7   AA_8   AA_9   AA_10  ⋯\n",
       "1   0.0453 0.0523 0.0843 0.0689 0.1183 0.2583 0.2156 0.3481 0.3337 0.2872 ⋯\n",
       "2   0.0100 0.0171 0.0623 0.0205 0.0205 0.0368 0.1098 0.1276 0.0598 0.1264 ⋯\n",
       "3   0.0762 0.0666 0.0481 0.0394 0.0590 0.0649 0.1209 0.2467 0.3564 0.4459 ⋯\n",
       "⋮   ⋮      ⋮      ⋮      ⋮      ⋮      ⋮      ⋮      ⋮      ⋮      ⋮      ⋱\n",
       "155 0.0272 0.0378 0.0488 0.0848 0.1127 0.1103 0.1349 0.2337 0.3113 0.3997 ⋯\n",
       "156 0.0187 0.0346 0.0168 0.0177 0.0393 0.1630 0.2028 0.1694 0.2328 0.2684 ⋯\n",
       "157 0.0260 0.0363 0.0136 0.0272 0.0214 0.0338 0.0655 0.1400 0.1843 0.2354 ⋯\n",
       "    AA_52  AA_53  AA_54  AA_55  AA_56  AA_57  AA_58  AA_59  AA_60 \n",
       "1   0.0084 0.0089 0.0048 0.0094 0.0191 0.0140 0.0049 0.0052 0.0044\n",
       "2   0.0121 0.0036 0.0150 0.0085 0.0073 0.0050 0.0044 0.0040 0.0117\n",
       "3   0.0031 0.0054 0.0105 0.0110 0.0015 0.0072 0.0048 0.0107 0.0094\n",
       "⋮   ⋮      ⋮      ⋮      ⋮      ⋮      ⋮      ⋮      ⋮      ⋮     \n",
       "155 0.0091 0.0045 0.0043 0.0043 0.0098 0.0054 0.0051 0.0065 0.0103\n",
       "156 0.0116 0.0098 0.0199 0.0033 0.0101 0.0065 0.0115 0.0193 0.0157\n",
       "157 0.0146 0.0129 0.0047 0.0039 0.0061 0.0040 0.0036 0.0061 0.0115\n",
       "    Rocks_or_Mines\n",
       "1   Rock          \n",
       "2   Rock          \n",
       "3   Rock          \n",
       "⋮   ⋮             \n",
       "155 Metal         \n",
       "156 Metal         \n",
       "157 Metal         "
      ]
     },
     "metadata": {},
     "output_type": "display_data"
    },
    {
     "name": "stdout",
     "output_type": "stream",
     "text": [
      "[1] \"Table 3: Sonar Testing Dataset\"\n"
     ]
    },
    {
     "data": {
      "text/html": [
       "<table>\n",
       "<caption>A tibble: 51 × 61</caption>\n",
       "<thead>\n",
       "\t<tr><th scope=col>AA_1</th><th scope=col>AA_2</th><th scope=col>AA_3</th><th scope=col>AA_4</th><th scope=col>AA_5</th><th scope=col>AA_6</th><th scope=col>AA_7</th><th scope=col>AA_8</th><th scope=col>AA_9</th><th scope=col>AA_10</th><th scope=col>⋯</th><th scope=col>AA_52</th><th scope=col>AA_53</th><th scope=col>AA_54</th><th scope=col>AA_55</th><th scope=col>AA_56</th><th scope=col>AA_57</th><th scope=col>AA_58</th><th scope=col>AA_59</th><th scope=col>AA_60</th><th scope=col>Rocks_or_Mines</th></tr>\n",
       "\t<tr><th scope=col>&lt;dbl&gt;</th><th scope=col>&lt;dbl&gt;</th><th scope=col>&lt;dbl&gt;</th><th scope=col>&lt;dbl&gt;</th><th scope=col>&lt;dbl&gt;</th><th scope=col>&lt;dbl&gt;</th><th scope=col>&lt;dbl&gt;</th><th scope=col>&lt;dbl&gt;</th><th scope=col>&lt;dbl&gt;</th><th scope=col>&lt;dbl&gt;</th><th scope=col>⋯</th><th scope=col>&lt;dbl&gt;</th><th scope=col>&lt;dbl&gt;</th><th scope=col>&lt;dbl&gt;</th><th scope=col>&lt;dbl&gt;</th><th scope=col>&lt;dbl&gt;</th><th scope=col>&lt;dbl&gt;</th><th scope=col>&lt;dbl&gt;</th><th scope=col>&lt;dbl&gt;</th><th scope=col>&lt;dbl&gt;</th><th scope=col>&lt;fct&gt;</th></tr>\n",
       "</thead>\n",
       "<tbody>\n",
       "\t<tr><td>0.0200</td><td>0.0371</td><td>0.0428</td><td>0.0207</td><td>0.0954</td><td>0.0986</td><td>0.1539</td><td>0.1601</td><td>0.3109</td><td>0.2111</td><td>⋯</td><td>0.0027</td><td>0.0065</td><td>0.0159</td><td>0.0072</td><td>0.0167</td><td>0.0180</td><td>0.0084</td><td>0.0090</td><td>0.0032</td><td>Rock</td></tr>\n",
       "\t<tr><td>0.0262</td><td>0.0582</td><td>0.1099</td><td>0.1083</td><td>0.0974</td><td>0.2280</td><td>0.2431</td><td>0.3771</td><td>0.5598</td><td>0.6194</td><td>⋯</td><td>0.0232</td><td>0.0166</td><td>0.0095</td><td>0.0180</td><td>0.0244</td><td>0.0316</td><td>0.0164</td><td>0.0095</td><td>0.0078</td><td>Rock</td></tr>\n",
       "\t<tr><td>0.0039</td><td>0.0063</td><td>0.0152</td><td>0.0336</td><td>0.0310</td><td>0.0284</td><td>0.0396</td><td>0.0272</td><td>0.0323</td><td>0.0452</td><td>⋯</td><td>0.0062</td><td>0.0120</td><td>0.0052</td><td>0.0056</td><td>0.0093</td><td>0.0042</td><td>0.0003</td><td>0.0053</td><td>0.0036</td><td>Rock</td></tr>\n",
       "\t<tr><td>⋮</td><td>⋮</td><td>⋮</td><td>⋮</td><td>⋮</td><td>⋮</td><td>⋮</td><td>⋮</td><td>⋮</td><td>⋮</td><td>⋱</td><td>⋮</td><td>⋮</td><td>⋮</td><td>⋮</td><td>⋮</td><td>⋮</td><td>⋮</td><td>⋮</td><td>⋮</td><td>⋮</td></tr>\n",
       "\t<tr><td>0.0323</td><td>0.0101</td><td>0.0298</td><td>0.0564</td><td>0.0760</td><td>0.0958</td><td>0.0990</td><td>0.1018</td><td>0.1030</td><td>0.2154</td><td>⋯</td><td>0.0061</td><td>0.0093</td><td>0.0135</td><td>0.0063</td><td>0.0063</td><td>0.0034</td><td>0.0032</td><td>0.0062</td><td>0.0067</td><td>Metal</td></tr>\n",
       "\t<tr><td>0.0522</td><td>0.0437</td><td>0.0180</td><td>0.0292</td><td>0.0351</td><td>0.1171</td><td>0.1257</td><td>0.1178</td><td>0.1258</td><td>0.2529</td><td>⋯</td><td>0.0160</td><td>0.0029</td><td>0.0051</td><td>0.0062</td><td>0.0089</td><td>0.0140</td><td>0.0138</td><td>0.0077</td><td>0.0031</td><td>Metal</td></tr>\n",
       "\t<tr><td>0.0303</td><td>0.0353</td><td>0.0490</td><td>0.0608</td><td>0.0167</td><td>0.1354</td><td>0.1465</td><td>0.1123</td><td>0.1945</td><td>0.2354</td><td>⋯</td><td>0.0086</td><td>0.0046</td><td>0.0126</td><td>0.0036</td><td>0.0035</td><td>0.0034</td><td>0.0079</td><td>0.0036</td><td>0.0048</td><td>Metal</td></tr>\n",
       "</tbody>\n",
       "</table>\n"
      ],
      "text/latex": [
       "A tibble: 51 × 61\n",
       "\\begin{tabular}{lllllllllllllllllllll}\n",
       " AA\\_1 & AA\\_2 & AA\\_3 & AA\\_4 & AA\\_5 & AA\\_6 & AA\\_7 & AA\\_8 & AA\\_9 & AA\\_10 & ⋯ & AA\\_52 & AA\\_53 & AA\\_54 & AA\\_55 & AA\\_56 & AA\\_57 & AA\\_58 & AA\\_59 & AA\\_60 & Rocks\\_or\\_Mines\\\\\n",
       " <dbl> & <dbl> & <dbl> & <dbl> & <dbl> & <dbl> & <dbl> & <dbl> & <dbl> & <dbl> & ⋯ & <dbl> & <dbl> & <dbl> & <dbl> & <dbl> & <dbl> & <dbl> & <dbl> & <dbl> & <fct>\\\\\n",
       "\\hline\n",
       "\t 0.0200 & 0.0371 & 0.0428 & 0.0207 & 0.0954 & 0.0986 & 0.1539 & 0.1601 & 0.3109 & 0.2111 & ⋯ & 0.0027 & 0.0065 & 0.0159 & 0.0072 & 0.0167 & 0.0180 & 0.0084 & 0.0090 & 0.0032 & Rock\\\\\n",
       "\t 0.0262 & 0.0582 & 0.1099 & 0.1083 & 0.0974 & 0.2280 & 0.2431 & 0.3771 & 0.5598 & 0.6194 & ⋯ & 0.0232 & 0.0166 & 0.0095 & 0.0180 & 0.0244 & 0.0316 & 0.0164 & 0.0095 & 0.0078 & Rock\\\\\n",
       "\t 0.0039 & 0.0063 & 0.0152 & 0.0336 & 0.0310 & 0.0284 & 0.0396 & 0.0272 & 0.0323 & 0.0452 & ⋯ & 0.0062 & 0.0120 & 0.0052 & 0.0056 & 0.0093 & 0.0042 & 0.0003 & 0.0053 & 0.0036 & Rock\\\\\n",
       "\t ⋮ & ⋮ & ⋮ & ⋮ & ⋮ & ⋮ & ⋮ & ⋮ & ⋮ & ⋮ & ⋱ & ⋮ & ⋮ & ⋮ & ⋮ & ⋮ & ⋮ & ⋮ & ⋮ & ⋮ & ⋮\\\\\n",
       "\t 0.0323 & 0.0101 & 0.0298 & 0.0564 & 0.0760 & 0.0958 & 0.0990 & 0.1018 & 0.1030 & 0.2154 & ⋯ & 0.0061 & 0.0093 & 0.0135 & 0.0063 & 0.0063 & 0.0034 & 0.0032 & 0.0062 & 0.0067 & Metal\\\\\n",
       "\t 0.0522 & 0.0437 & 0.0180 & 0.0292 & 0.0351 & 0.1171 & 0.1257 & 0.1178 & 0.1258 & 0.2529 & ⋯ & 0.0160 & 0.0029 & 0.0051 & 0.0062 & 0.0089 & 0.0140 & 0.0138 & 0.0077 & 0.0031 & Metal\\\\\n",
       "\t 0.0303 & 0.0353 & 0.0490 & 0.0608 & 0.0167 & 0.1354 & 0.1465 & 0.1123 & 0.1945 & 0.2354 & ⋯ & 0.0086 & 0.0046 & 0.0126 & 0.0036 & 0.0035 & 0.0034 & 0.0079 & 0.0036 & 0.0048 & Metal\\\\\n",
       "\\end{tabular}\n"
      ],
      "text/markdown": [
       "\n",
       "A tibble: 51 × 61\n",
       "\n",
       "| AA_1 &lt;dbl&gt; | AA_2 &lt;dbl&gt; | AA_3 &lt;dbl&gt; | AA_4 &lt;dbl&gt; | AA_5 &lt;dbl&gt; | AA_6 &lt;dbl&gt; | AA_7 &lt;dbl&gt; | AA_8 &lt;dbl&gt; | AA_9 &lt;dbl&gt; | AA_10 &lt;dbl&gt; | ⋯ ⋯ | AA_52 &lt;dbl&gt; | AA_53 &lt;dbl&gt; | AA_54 &lt;dbl&gt; | AA_55 &lt;dbl&gt; | AA_56 &lt;dbl&gt; | AA_57 &lt;dbl&gt; | AA_58 &lt;dbl&gt; | AA_59 &lt;dbl&gt; | AA_60 &lt;dbl&gt; | Rocks_or_Mines &lt;fct&gt; |\n",
       "|---|---|---|---|---|---|---|---|---|---|---|---|---|---|---|---|---|---|---|---|---|\n",
       "| 0.0200 | 0.0371 | 0.0428 | 0.0207 | 0.0954 | 0.0986 | 0.1539 | 0.1601 | 0.3109 | 0.2111 | ⋯ | 0.0027 | 0.0065 | 0.0159 | 0.0072 | 0.0167 | 0.0180 | 0.0084 | 0.0090 | 0.0032 | Rock |\n",
       "| 0.0262 | 0.0582 | 0.1099 | 0.1083 | 0.0974 | 0.2280 | 0.2431 | 0.3771 | 0.5598 | 0.6194 | ⋯ | 0.0232 | 0.0166 | 0.0095 | 0.0180 | 0.0244 | 0.0316 | 0.0164 | 0.0095 | 0.0078 | Rock |\n",
       "| 0.0039 | 0.0063 | 0.0152 | 0.0336 | 0.0310 | 0.0284 | 0.0396 | 0.0272 | 0.0323 | 0.0452 | ⋯ | 0.0062 | 0.0120 | 0.0052 | 0.0056 | 0.0093 | 0.0042 | 0.0003 | 0.0053 | 0.0036 | Rock |\n",
       "| ⋮ | ⋮ | ⋮ | ⋮ | ⋮ | ⋮ | ⋮ | ⋮ | ⋮ | ⋮ | ⋱ | ⋮ | ⋮ | ⋮ | ⋮ | ⋮ | ⋮ | ⋮ | ⋮ | ⋮ | ⋮ |\n",
       "| 0.0323 | 0.0101 | 0.0298 | 0.0564 | 0.0760 | 0.0958 | 0.0990 | 0.1018 | 0.1030 | 0.2154 | ⋯ | 0.0061 | 0.0093 | 0.0135 | 0.0063 | 0.0063 | 0.0034 | 0.0032 | 0.0062 | 0.0067 | Metal |\n",
       "| 0.0522 | 0.0437 | 0.0180 | 0.0292 | 0.0351 | 0.1171 | 0.1257 | 0.1178 | 0.1258 | 0.2529 | ⋯ | 0.0160 | 0.0029 | 0.0051 | 0.0062 | 0.0089 | 0.0140 | 0.0138 | 0.0077 | 0.0031 | Metal |\n",
       "| 0.0303 | 0.0353 | 0.0490 | 0.0608 | 0.0167 | 0.1354 | 0.1465 | 0.1123 | 0.1945 | 0.2354 | ⋯ | 0.0086 | 0.0046 | 0.0126 | 0.0036 | 0.0035 | 0.0034 | 0.0079 | 0.0036 | 0.0048 | Metal |\n",
       "\n"
      ],
      "text/plain": [
       "   AA_1   AA_2   AA_3   AA_4   AA_5   AA_6   AA_7   AA_8   AA_9   AA_10  ⋯\n",
       "1  0.0200 0.0371 0.0428 0.0207 0.0954 0.0986 0.1539 0.1601 0.3109 0.2111 ⋯\n",
       "2  0.0262 0.0582 0.1099 0.1083 0.0974 0.2280 0.2431 0.3771 0.5598 0.6194 ⋯\n",
       "3  0.0039 0.0063 0.0152 0.0336 0.0310 0.0284 0.0396 0.0272 0.0323 0.0452 ⋯\n",
       "⋮  ⋮      ⋮      ⋮      ⋮      ⋮      ⋮      ⋮      ⋮      ⋮      ⋮      ⋱\n",
       "49 0.0323 0.0101 0.0298 0.0564 0.0760 0.0958 0.0990 0.1018 0.1030 0.2154 ⋯\n",
       "50 0.0522 0.0437 0.0180 0.0292 0.0351 0.1171 0.1257 0.1178 0.1258 0.2529 ⋯\n",
       "51 0.0303 0.0353 0.0490 0.0608 0.0167 0.1354 0.1465 0.1123 0.1945 0.2354 ⋯\n",
       "   AA_52  AA_53  AA_54  AA_55  AA_56  AA_57  AA_58  AA_59  AA_60 \n",
       "1  0.0027 0.0065 0.0159 0.0072 0.0167 0.0180 0.0084 0.0090 0.0032\n",
       "2  0.0232 0.0166 0.0095 0.0180 0.0244 0.0316 0.0164 0.0095 0.0078\n",
       "3  0.0062 0.0120 0.0052 0.0056 0.0093 0.0042 0.0003 0.0053 0.0036\n",
       "⋮  ⋮      ⋮      ⋮      ⋮      ⋮      ⋮      ⋮      ⋮      ⋮     \n",
       "49 0.0061 0.0093 0.0135 0.0063 0.0063 0.0034 0.0032 0.0062 0.0067\n",
       "50 0.0160 0.0029 0.0051 0.0062 0.0089 0.0140 0.0138 0.0077 0.0031\n",
       "51 0.0086 0.0046 0.0126 0.0036 0.0035 0.0034 0.0079 0.0036 0.0048\n",
       "   Rocks_or_Mines\n",
       "1  Rock          \n",
       "2  Rock          \n",
       "3  Rock          \n",
       "⋮  ⋮             \n",
       "49 Metal         \n",
       "50 Metal         \n",
       "51 Metal         "
      ]
     },
     "metadata": {},
     "output_type": "display_data"
    }
   ],
   "source": [
    "# Split data to training data and testing data\n",
    "sonar_split <- initial_split(sonar, prop = 0.75, strata = Rocks_or_Mines)\n",
    "sonar_training <- training(sonar_split)\n",
    "print(\"Table 2: Sonar Training Dataset\")\n",
    "sonar_training\n",
    "sonar_testing <- testing(sonar_split)\n",
    "print(\"Table 3: Sonar Testing Dataset\")\n",
    "sonar_testing"
   ]
  },
  {
   "cell_type": "markdown",
   "metadata": {},
   "source": [
    "By looking at Table 1,2 and 3, all the columns except Rocks_or_Mines are numerical variables. Rocks_or_Mines is catagorical variable."
   ]
  },
  {
   "cell_type": "markdown",
   "metadata": {},
   "source": [
    "### 2.1 Data Summary"
   ]
  },
  {
   "cell_type": "markdown",
   "metadata": {},
   "source": [
    "To examine how the overall data looks like, we summarize the data with the number of observations and the mean value of the angles at each angle."
   ]
  },
  {
   "cell_type": "code",
   "execution_count": null,
   "metadata": {},
   "outputs": [],
   "source": [
    "print(\"Table 4: Observation counts, average values of sonar angles for metal and rock objects\")\n",
    "# sonar %>%\n",
    "# group_by(Rocks_or_Mines) %>%\n",
    "# # summarize(num_observ = n(), \n",
    "# #           AA_1_mean = mean(AA_1), \n",
    "# #           AA_2_mean = mean(AA_2), \n",
    "# #           AA_3_mean = mean(AA_3), \n",
    "# #           AA_4_mean = mean(AA_4), \n",
    "# #           AA_5_mean = mean(AA_5))\n",
    "# summarize(num_observ = n())\n",
    "\n",
    "sonar_means <- summarise_if(sonar, is.numeric, mean)\n",
    "    sonar_obs_means <- sonar %>%\n",
    "    group_by(Rocks_or_Mines) %>%\n",
    "    summarize(num_observ = n()) %>%\n",
    "    bind_cols(sonar_means)\n",
    "    sonar_obs_means"
   ]
  },
  {
   "cell_type": "markdown",
   "metadata": {},
   "source": [
    "From Table 4, the number of observations for rocks and mines is nearly the same. Looking at the mean value of sonar signals, as the order of angles increase, the sonar signals also increase at least until the 8th angle. From the 51st angle to the 60th angle, the sonar signlas decrease. However, we cannot see the overall trend due to a large number of angles.\n",
    "\n",
    "Therefore, in order to get more information about these variables, we created a histogram to visualize the distribution of return signals of rock and metal in the next section."
   ]
  },
  {
   "cell_type": "markdown",
   "metadata": {},
   "source": [
    "### 2.2 Data Visualization"
   ]
  },
  {
   "cell_type": "code",
   "execution_count": null,
   "metadata": {},
   "outputs": [],
   "source": [
    "# Set size of plots\n",
    "options(repr.plot.width = 30, repr.plot.height = 10)\n",
    "\n",
    "# Tidy data\n",
    "sonar_longer <- pivot_longer(sonar_obs_means,\n",
    "            cols = AA_1:AA_60,\n",
    "            names_to = \"angle\",\n",
    "            values_to = \"return_measurement\") %>%\n",
    "            # filter(angle == \"AA_1\" | angle == \"AA_2\" | angle == \"AA_3\" | angle == \"AA_4\" | angle == \"AA_5\") %>%\n",
    "            mutate(angle = as_factor(angle))\n",
    "\n",
    "# plot the distribution of return signals of rock and metal for all angles\n",
    "# sonar_longer %>% ggplot(aes(x = return_measurement)) + \n",
    "#    geom_histogram(binwidth = 0.01) +\n",
    "#    xlab(\"Sonar return signal\") + \n",
    "#    ylab(\"Frequency\") +\n",
    "#    labs(title = \"Graph 1: Distribution of return signals of rock and metal for first five angles\") +\n",
    "#    facet_grid(angle ~ Rocks_or_Mines, scales = \"free\",\n",
    "#               switch = \"y\") +\n",
    "#    theme(axis.text.x = element_text(angle = 90, hjust = 0.5),\n",
    "#         strip.text.y.left = element_text(angle = 0),\n",
    "#         text = element_text(size = 20))\n",
    "\n",
    "# Plot a bar graph of return measurement of all angles of rock and metal\n",
    "sonar_distrib_hist <- sonar_longer %>% ggplot(aes(x = angle, y = return_measurement)) +\n",
    "    geom_bar(stat = \"identity\") +\n",
    "    labs(x = \"The angles\", y = \"Return Measurement\", title = \"Graph 1: Bar graph of return measurement of all angles of rock and metal\") +\n",
    "    facet_grid(rows = vars(Rocks_or_Mines)) + \n",
    "    theme(axis.text.x = element_text(angle = 90, hjust = 0.5),\n",
    "        text = element_text(size = 20))\n",
    "sonar_distrib_hist"
   ]
  },
  {
   "cell_type": "markdown",
   "metadata": {},
   "source": [
    "Graph 1 showed the overall trend of the dataset. For both rock and metal, the data is bell-shaped. The returned sonar signals from rocks increase as the angle increases until the 26th angle, and decreases. Likewise, the sonar signals from metals have the same trend with the peak at the 27th angle."
   ]
  },
  {
   "cell_type": "markdown",
   "metadata": {},
   "source": [
    "### 2.3 Data Analysis"
   ]
  },
  {
   "cell_type": "markdown",
   "metadata": {},
   "source": [
    "To conduct the data analysis, we will use all the columns. Even though it is not ideal to use all the columns for data analysis in many cases, in our case the columns named AA_1 to AA_60 represent 60 different features used to identify whether the object that bounces of a chosen sonar signal a metal cylinder or a cylindrical rock. Each of these 60 features are equally important to discriminate between the sonar signals.\n",
    "\n",
    "\n",
    "In order to choose the optimal K value for the KNN classification, we used cross-validation method.\n",
    "\n",
    "The vfold_cv function splits the training data into 5 validation datasets. \n",
    "\n",
    "By calling the nearest_neighbor function, we create a model specification. The weight function specifies \"rectangular\" so that each of the K nearest neighbors gets exactly 1 vote. Rather than specifying a parciular value for neighobrs, they are tuned to identify the best K value. In the set_engine argument, kknn is the R package for performing KNN neighbors classification. Finally, we specify that this is a classification problem with the set_mode function.\n",
    "\n",
    "Next, we create the recipe from the training dataset, identifying the Rocks_or_Mines as the target variable and all angles as the predictors. We also scale and cetner all the predictors to standardize the size of the sclae effects.\n",
    "\n",
    "Then we create a data analysis workflow from the recipe and model we created earlier. We run the cross-validation and collect the information about the mean and standard error of the classifier’s validation accuracy across the folds. \n",
    "\n",
    "We identify the rows with accuracy value from \".metric\" column and plot the graph the relationship between the estimated accuracies and K values(neighbors)."
   ]
  },
  {
   "cell_type": "code",
   "execution_count": 8,
   "metadata": {},
   "outputs": [
    {
     "name": "stdout",
     "output_type": "stream",
     "text": [
      "[1] \"Table 5: Metrics with Accuracies\"\n"
     ]
    },
    {
     "data": {
      "text/html": [
       "<table>\n",
       "<caption>A tibble: 10 × 7</caption>\n",
       "<thead>\n",
       "\t<tr><th scope=col>neighbors</th><th scope=col>.metric</th><th scope=col>.estimator</th><th scope=col>mean</th><th scope=col>n</th><th scope=col>std_err</th><th scope=col>.config</th></tr>\n",
       "\t<tr><th scope=col>&lt;int&gt;</th><th scope=col>&lt;chr&gt;</th><th scope=col>&lt;chr&gt;</th><th scope=col>&lt;dbl&gt;</th><th scope=col>&lt;int&gt;</th><th scope=col>&lt;dbl&gt;</th><th scope=col>&lt;chr&gt;</th></tr>\n",
       "</thead>\n",
       "<tbody>\n",
       "\t<tr><td>2</td><td>accuracy</td><td>binary</td><td>0.8352419</td><td>5</td><td>0.01963459</td><td>Model01</td></tr>\n",
       "\t<tr><td>4</td><td>accuracy</td><td>binary</td><td>0.7904704</td><td>5</td><td>0.02277025</td><td>Model02</td></tr>\n",
       "\t<tr><td>5</td><td>accuracy</td><td>binary</td><td>0.7898522</td><td>5</td><td>0.02384489</td><td>Model03</td></tr>\n",
       "\t<tr><td>⋮</td><td>⋮</td><td>⋮</td><td>⋮</td><td>⋮</td><td>⋮</td><td>⋮</td></tr>\n",
       "\t<tr><td>11</td><td>accuracy</td><td>binary</td><td>0.6950672</td><td>5</td><td>0.03509797</td><td>Model08</td></tr>\n",
       "\t<tr><td>13</td><td>accuracy</td><td>binary</td><td>0.6879839</td><td>5</td><td>0.02986204</td><td>Model09</td></tr>\n",
       "\t<tr><td>14</td><td>accuracy</td><td>binary</td><td>0.6879839</td><td>5</td><td>0.02986204</td><td>Model10</td></tr>\n",
       "</tbody>\n",
       "</table>\n"
      ],
      "text/latex": [
       "A tibble: 10 × 7\n",
       "\\begin{tabular}{lllllll}\n",
       " neighbors & .metric & .estimator & mean & n & std\\_err & .config\\\\\n",
       " <int> & <chr> & <chr> & <dbl> & <int> & <dbl> & <chr>\\\\\n",
       "\\hline\n",
       "\t 2 & accuracy & binary & 0.8352419 & 5 & 0.01963459 & Model01\\\\\n",
       "\t 4 & accuracy & binary & 0.7904704 & 5 & 0.02277025 & Model02\\\\\n",
       "\t 5 & accuracy & binary & 0.7898522 & 5 & 0.02384489 & Model03\\\\\n",
       "\t ⋮ & ⋮ & ⋮ & ⋮ & ⋮ & ⋮ & ⋮\\\\\n",
       "\t 11 & accuracy & binary & 0.6950672 & 5 & 0.03509797 & Model08\\\\\n",
       "\t 13 & accuracy & binary & 0.6879839 & 5 & 0.02986204 & Model09\\\\\n",
       "\t 14 & accuracy & binary & 0.6879839 & 5 & 0.02986204 & Model10\\\\\n",
       "\\end{tabular}\n"
      ],
      "text/markdown": [
       "\n",
       "A tibble: 10 × 7\n",
       "\n",
       "| neighbors &lt;int&gt; | .metric &lt;chr&gt; | .estimator &lt;chr&gt; | mean &lt;dbl&gt; | n &lt;int&gt; | std_err &lt;dbl&gt; | .config &lt;chr&gt; |\n",
       "|---|---|---|---|---|---|---|\n",
       "| 2 | accuracy | binary | 0.8352419 | 5 | 0.01963459 | Model01 |\n",
       "| 4 | accuracy | binary | 0.7904704 | 5 | 0.02277025 | Model02 |\n",
       "| 5 | accuracy | binary | 0.7898522 | 5 | 0.02384489 | Model03 |\n",
       "| ⋮ | ⋮ | ⋮ | ⋮ | ⋮ | ⋮ | ⋮ |\n",
       "| 11 | accuracy | binary | 0.6950672 | 5 | 0.03509797 | Model08 |\n",
       "| 13 | accuracy | binary | 0.6879839 | 5 | 0.02986204 | Model09 |\n",
       "| 14 | accuracy | binary | 0.6879839 | 5 | 0.02986204 | Model10 |\n",
       "\n"
      ],
      "text/plain": [
       "   neighbors .metric  .estimator mean      n std_err    .config\n",
       "1  2         accuracy binary     0.8352419 5 0.01963459 Model01\n",
       "2  4         accuracy binary     0.7904704 5 0.02277025 Model02\n",
       "3  5         accuracy binary     0.7898522 5 0.02384489 Model03\n",
       "⋮  ⋮         ⋮        ⋮          ⋮         ⋮ ⋮          ⋮      \n",
       "8  11        accuracy binary     0.6950672 5 0.03509797 Model08\n",
       "9  13        accuracy binary     0.6879839 5 0.02986204 Model09\n",
       "10 14        accuracy binary     0.6879839 5 0.02986204 Model10"
      ]
     },
     "metadata": {},
     "output_type": "display_data"
    },
    {
     "data": {
      "image/png": "[encoded data removed]",
      "text/plain": [
       "plot without title"
      ]
     },
     "metadata": {
      "image/png": {
       "height": 480,
       "width": 480
      }
     },
     "output_type": "display_data"
    }
   ],
   "source": [
    "# Set the same seed\n",
    "set.seed(2022)\n",
    "\n",
    "# Perform 5-fold cross-validation\n",
    "sonar_vfold <- vfold_cv(sonar_training, v = 5, strata = Rocks_or_Mines)\n",
    "\n",
    "# create a model specification for K-nearest neighbors classification and set neighbors to tune\n",
    "knn_spec <- nearest_neighbor(weight_func = \"rectangular\", neighbors = tune()) %>%\n",
    "    set_engine(\"kknn\") %>%\n",
    "    set_mode(\"classification\")\n",
    "\n",
    "# Standardize all predictors by recipe\n",
    "sonar_recipe <- recipe(Rocks_or_Mines ~., data = sonar_training) %>%\n",
    "    step_scale(all_predictors()) %>%\n",
    "    step_center(all_predictors())\n",
    "\n",
    "# Creat a workflow to find the best K value\n",
    "knn_results <- workflow() %>%\n",
    "    add_recipe(sonar_recipe) %>%\n",
    "    add_model(knn_spec) %>%\n",
    "    tune_grid(resamples = sonar_vfold, grid = 10) %>%\n",
    "    collect_metrics()\n",
    "\n",
    "# Select accuracy\n",
    "accuracies <- knn_results %>%\n",
    "    filter(.metric == \"accuracy\")\n",
    "print(\"Table 5: Metrics with Accuracies\")\n",
    "accuracies\n",
    "\n",
    "options(repr.plot.width = 8, repr.plot.height = 8)\n",
    "# Plot Estimated Accuracy verus K value(Neighbors) to find best k\n",
    "accuracy_vs_k <- ggplot(accuracies, aes(x = neighbors, y = mean)) +\n",
    "    geom_point() +\n",
    "    geom_line() +\n",
    "    labs(x = \"Neighbors\", y = \"Accuracy Estimate\") + \n",
    "    ggtitle(\"Graph 2: Estimated Accuracy vs. K values\") +\n",
    "    scale_x_continuous(breaks = seq(0, 20, by = 1)) +\n",
    "    scale_y_continuous(limits = c(0.4, 1.0)) +\n",
    "    theme(plot.title = element_text(hjust = 0.5), \n",
    "          text = element_text(size = 20))\n",
    "\n",
    "accuracy_vs_k"
   ]
  },
  {
   "cell_type": "markdown",
   "metadata": {},
   "source": [
    "According Graph 2, we chose K = 2 as the optimal K value because it has the highest accuracy.\n",
    "Now we recreate the KNN classification specification with K = 2 using the training dataset and predict the Rocks_or_Mines in the testing dataset. "
   ]
  },
  {
   "cell_type": "code",
   "execution_count": 9,
   "metadata": {},
   "outputs": [
    {
     "name": "stdout",
     "output_type": "stream",
     "text": [
      "[1] \"Table 6: Prediction of Sonar Testing DataSet\"\n"
     ]
    },
    {
     "data": {
      "text/html": [
       "<table>\n",
       "<caption>A tibble: 51 × 62</caption>\n",
       "<thead>\n",
       "\t<tr><th scope=col>.pred_class</th><th scope=col>AA_1</th><th scope=col>AA_2</th><th scope=col>AA_3</th><th scope=col>AA_4</th><th scope=col>AA_5</th><th scope=col>AA_6</th><th scope=col>AA_7</th><th scope=col>AA_8</th><th scope=col>AA_9</th><th scope=col>⋯</th><th scope=col>AA_52</th><th scope=col>AA_53</th><th scope=col>AA_54</th><th scope=col>AA_55</th><th scope=col>AA_56</th><th scope=col>AA_57</th><th scope=col>AA_58</th><th scope=col>AA_59</th><th scope=col>AA_60</th><th scope=col>Rocks_or_Mines</th></tr>\n",
       "\t<tr><th scope=col>&lt;fct&gt;</th><th scope=col>&lt;dbl&gt;</th><th scope=col>&lt;dbl&gt;</th><th scope=col>&lt;dbl&gt;</th><th scope=col>&lt;dbl&gt;</th><th scope=col>&lt;dbl&gt;</th><th scope=col>&lt;dbl&gt;</th><th scope=col>&lt;dbl&gt;</th><th scope=col>&lt;dbl&gt;</th><th scope=col>&lt;dbl&gt;</th><th scope=col>⋯</th><th scope=col>&lt;dbl&gt;</th><th scope=col>&lt;dbl&gt;</th><th scope=col>&lt;dbl&gt;</th><th scope=col>&lt;dbl&gt;</th><th scope=col>&lt;dbl&gt;</th><th scope=col>&lt;dbl&gt;</th><th scope=col>&lt;dbl&gt;</th><th scope=col>&lt;dbl&gt;</th><th scope=col>&lt;dbl&gt;</th><th scope=col>&lt;fct&gt;</th></tr>\n",
       "</thead>\n",
       "<tbody>\n",
       "\t<tr><td>Rock</td><td>0.0200</td><td>0.0371</td><td>0.0428</td><td>0.0207</td><td>0.0954</td><td>0.0986</td><td>0.1539</td><td>0.1601</td><td>0.3109</td><td>⋯</td><td>0.0027</td><td>0.0065</td><td>0.0159</td><td>0.0072</td><td>0.0167</td><td>0.0180</td><td>0.0084</td><td>0.0090</td><td>0.0032</td><td>Rock</td></tr>\n",
       "\t<tr><td>Rock</td><td>0.0262</td><td>0.0582</td><td>0.1099</td><td>0.1083</td><td>0.0974</td><td>0.2280</td><td>0.2431</td><td>0.3771</td><td>0.5598</td><td>⋯</td><td>0.0232</td><td>0.0166</td><td>0.0095</td><td>0.0180</td><td>0.0244</td><td>0.0316</td><td>0.0164</td><td>0.0095</td><td>0.0078</td><td>Rock</td></tr>\n",
       "\t<tr><td>Rock</td><td>0.0039</td><td>0.0063</td><td>0.0152</td><td>0.0336</td><td>0.0310</td><td>0.0284</td><td>0.0396</td><td>0.0272</td><td>0.0323</td><td>⋯</td><td>0.0062</td><td>0.0120</td><td>0.0052</td><td>0.0056</td><td>0.0093</td><td>0.0042</td><td>0.0003</td><td>0.0053</td><td>0.0036</td><td>Rock</td></tr>\n",
       "\t<tr><td>⋮</td><td>⋮</td><td>⋮</td><td>⋮</td><td>⋮</td><td>⋮</td><td>⋮</td><td>⋮</td><td>⋮</td><td>⋮</td><td>⋱</td><td>⋮</td><td>⋮</td><td>⋮</td><td>⋮</td><td>⋮</td><td>⋮</td><td>⋮</td><td>⋮</td><td>⋮</td><td>⋮</td></tr>\n",
       "\t<tr><td>Metal</td><td>0.0323</td><td>0.0101</td><td>0.0298</td><td>0.0564</td><td>0.0760</td><td>0.0958</td><td>0.0990</td><td>0.1018</td><td>0.1030</td><td>⋯</td><td>0.0061</td><td>0.0093</td><td>0.0135</td><td>0.0063</td><td>0.0063</td><td>0.0034</td><td>0.0032</td><td>0.0062</td><td>0.0067</td><td>Metal</td></tr>\n",
       "\t<tr><td>Metal</td><td>0.0522</td><td>0.0437</td><td>0.0180</td><td>0.0292</td><td>0.0351</td><td>0.1171</td><td>0.1257</td><td>0.1178</td><td>0.1258</td><td>⋯</td><td>0.0160</td><td>0.0029</td><td>0.0051</td><td>0.0062</td><td>0.0089</td><td>0.0140</td><td>0.0138</td><td>0.0077</td><td>0.0031</td><td>Metal</td></tr>\n",
       "\t<tr><td>Metal</td><td>0.0303</td><td>0.0353</td><td>0.0490</td><td>0.0608</td><td>0.0167</td><td>0.1354</td><td>0.1465</td><td>0.1123</td><td>0.1945</td><td>⋯</td><td>0.0086</td><td>0.0046</td><td>0.0126</td><td>0.0036</td><td>0.0035</td><td>0.0034</td><td>0.0079</td><td>0.0036</td><td>0.0048</td><td>Metal</td></tr>\n",
       "</tbody>\n",
       "</table>\n"
      ],
      "text/latex": [
       "A tibble: 51 × 62\n",
       "\\begin{tabular}{lllllllllllllllllllll}\n",
       " .pred\\_class & AA\\_1 & AA\\_2 & AA\\_3 & AA\\_4 & AA\\_5 & AA\\_6 & AA\\_7 & AA\\_8 & AA\\_9 & ⋯ & AA\\_52 & AA\\_53 & AA\\_54 & AA\\_55 & AA\\_56 & AA\\_57 & AA\\_58 & AA\\_59 & AA\\_60 & Rocks\\_or\\_Mines\\\\\n",
       " <fct> & <dbl> & <dbl> & <dbl> & <dbl> & <dbl> & <dbl> & <dbl> & <dbl> & <dbl> & ⋯ & <dbl> & <dbl> & <dbl> & <dbl> & <dbl> & <dbl> & <dbl> & <dbl> & <dbl> & <fct>\\\\\n",
       "\\hline\n",
       "\t Rock & 0.0200 & 0.0371 & 0.0428 & 0.0207 & 0.0954 & 0.0986 & 0.1539 & 0.1601 & 0.3109 & ⋯ & 0.0027 & 0.0065 & 0.0159 & 0.0072 & 0.0167 & 0.0180 & 0.0084 & 0.0090 & 0.0032 & Rock\\\\\n",
       "\t Rock & 0.0262 & 0.0582 & 0.1099 & 0.1083 & 0.0974 & 0.2280 & 0.2431 & 0.3771 & 0.5598 & ⋯ & 0.0232 & 0.0166 & 0.0095 & 0.0180 & 0.0244 & 0.0316 & 0.0164 & 0.0095 & 0.0078 & Rock\\\\\n",
       "\t Rock & 0.0039 & 0.0063 & 0.0152 & 0.0336 & 0.0310 & 0.0284 & 0.0396 & 0.0272 & 0.0323 & ⋯ & 0.0062 & 0.0120 & 0.0052 & 0.0056 & 0.0093 & 0.0042 & 0.0003 & 0.0053 & 0.0036 & Rock\\\\\n",
       "\t ⋮ & ⋮ & ⋮ & ⋮ & ⋮ & ⋮ & ⋮ & ⋮ & ⋮ & ⋮ & ⋱ & ⋮ & ⋮ & ⋮ & ⋮ & ⋮ & ⋮ & ⋮ & ⋮ & ⋮ & ⋮\\\\\n",
       "\t Metal & 0.0323 & 0.0101 & 0.0298 & 0.0564 & 0.0760 & 0.0958 & 0.0990 & 0.1018 & 0.1030 & ⋯ & 0.0061 & 0.0093 & 0.0135 & 0.0063 & 0.0063 & 0.0034 & 0.0032 & 0.0062 & 0.0067 & Metal\\\\\n",
       "\t Metal & 0.0522 & 0.0437 & 0.0180 & 0.0292 & 0.0351 & 0.1171 & 0.1257 & 0.1178 & 0.1258 & ⋯ & 0.0160 & 0.0029 & 0.0051 & 0.0062 & 0.0089 & 0.0140 & 0.0138 & 0.0077 & 0.0031 & Metal\\\\\n",
       "\t Metal & 0.0303 & 0.0353 & 0.0490 & 0.0608 & 0.0167 & 0.1354 & 0.1465 & 0.1123 & 0.1945 & ⋯ & 0.0086 & 0.0046 & 0.0126 & 0.0036 & 0.0035 & 0.0034 & 0.0079 & 0.0036 & 0.0048 & Metal\\\\\n",
       "\\end{tabular}\n"
      ],
      "text/markdown": [
       "\n",
       "A tibble: 51 × 62\n",
       "\n",
       "| .pred_class &lt;fct&gt; | AA_1 &lt;dbl&gt; | AA_2 &lt;dbl&gt; | AA_3 &lt;dbl&gt; | AA_4 &lt;dbl&gt; | AA_5 &lt;dbl&gt; | AA_6 &lt;dbl&gt; | AA_7 &lt;dbl&gt; | AA_8 &lt;dbl&gt; | AA_9 &lt;dbl&gt; | ⋯ ⋯ | AA_52 &lt;dbl&gt; | AA_53 &lt;dbl&gt; | AA_54 &lt;dbl&gt; | AA_55 &lt;dbl&gt; | AA_56 &lt;dbl&gt; | AA_57 &lt;dbl&gt; | AA_58 &lt;dbl&gt; | AA_59 &lt;dbl&gt; | AA_60 &lt;dbl&gt; | Rocks_or_Mines &lt;fct&gt; |\n",
       "|---|---|---|---|---|---|---|---|---|---|---|---|---|---|---|---|---|---|---|---|---|\n",
       "| Rock | 0.0200 | 0.0371 | 0.0428 | 0.0207 | 0.0954 | 0.0986 | 0.1539 | 0.1601 | 0.3109 | ⋯ | 0.0027 | 0.0065 | 0.0159 | 0.0072 | 0.0167 | 0.0180 | 0.0084 | 0.0090 | 0.0032 | Rock |\n",
       "| Rock | 0.0262 | 0.0582 | 0.1099 | 0.1083 | 0.0974 | 0.2280 | 0.2431 | 0.3771 | 0.5598 | ⋯ | 0.0232 | 0.0166 | 0.0095 | 0.0180 | 0.0244 | 0.0316 | 0.0164 | 0.0095 | 0.0078 | Rock |\n",
       "| Rock | 0.0039 | 0.0063 | 0.0152 | 0.0336 | 0.0310 | 0.0284 | 0.0396 | 0.0272 | 0.0323 | ⋯ | 0.0062 | 0.0120 | 0.0052 | 0.0056 | 0.0093 | 0.0042 | 0.0003 | 0.0053 | 0.0036 | Rock |\n",
       "| ⋮ | ⋮ | ⋮ | ⋮ | ⋮ | ⋮ | ⋮ | ⋮ | ⋮ | ⋮ | ⋱ | ⋮ | ⋮ | ⋮ | ⋮ | ⋮ | ⋮ | ⋮ | ⋮ | ⋮ | ⋮ |\n",
       "| Metal | 0.0323 | 0.0101 | 0.0298 | 0.0564 | 0.0760 | 0.0958 | 0.0990 | 0.1018 | 0.1030 | ⋯ | 0.0061 | 0.0093 | 0.0135 | 0.0063 | 0.0063 | 0.0034 | 0.0032 | 0.0062 | 0.0067 | Metal |\n",
       "| Metal | 0.0522 | 0.0437 | 0.0180 | 0.0292 | 0.0351 | 0.1171 | 0.1257 | 0.1178 | 0.1258 | ⋯ | 0.0160 | 0.0029 | 0.0051 | 0.0062 | 0.0089 | 0.0140 | 0.0138 | 0.0077 | 0.0031 | Metal |\n",
       "| Metal | 0.0303 | 0.0353 | 0.0490 | 0.0608 | 0.0167 | 0.1354 | 0.1465 | 0.1123 | 0.1945 | ⋯ | 0.0086 | 0.0046 | 0.0126 | 0.0036 | 0.0035 | 0.0034 | 0.0079 | 0.0036 | 0.0048 | Metal |\n",
       "\n"
      ],
      "text/plain": [
       "   .pred_class AA_1   AA_2   AA_3   AA_4   AA_5   AA_6   AA_7   AA_8   AA_9   ⋯\n",
       "1  Rock        0.0200 0.0371 0.0428 0.0207 0.0954 0.0986 0.1539 0.1601 0.3109 ⋯\n",
       "2  Rock        0.0262 0.0582 0.1099 0.1083 0.0974 0.2280 0.2431 0.3771 0.5598 ⋯\n",
       "3  Rock        0.0039 0.0063 0.0152 0.0336 0.0310 0.0284 0.0396 0.0272 0.0323 ⋯\n",
       "⋮  ⋮           ⋮      ⋮      ⋮      ⋮      ⋮      ⋮      ⋮      ⋮      ⋮      ⋱\n",
       "49 Metal       0.0323 0.0101 0.0298 0.0564 0.0760 0.0958 0.0990 0.1018 0.1030 ⋯\n",
       "50 Metal       0.0522 0.0437 0.0180 0.0292 0.0351 0.1171 0.1257 0.1178 0.1258 ⋯\n",
       "51 Metal       0.0303 0.0353 0.0490 0.0608 0.0167 0.1354 0.1465 0.1123 0.1945 ⋯\n",
       "   AA_52  AA_53  AA_54  AA_55  AA_56  AA_57  AA_58  AA_59  AA_60 \n",
       "1  0.0027 0.0065 0.0159 0.0072 0.0167 0.0180 0.0084 0.0090 0.0032\n",
       "2  0.0232 0.0166 0.0095 0.0180 0.0244 0.0316 0.0164 0.0095 0.0078\n",
       "3  0.0062 0.0120 0.0052 0.0056 0.0093 0.0042 0.0003 0.0053 0.0036\n",
       "⋮  ⋮      ⋮      ⋮      ⋮      ⋮      ⋮      ⋮      ⋮      ⋮     \n",
       "49 0.0061 0.0093 0.0135 0.0063 0.0063 0.0034 0.0032 0.0062 0.0067\n",
       "50 0.0160 0.0029 0.0051 0.0062 0.0089 0.0140 0.0138 0.0077 0.0031\n",
       "51 0.0086 0.0046 0.0126 0.0036 0.0035 0.0034 0.0079 0.0036 0.0048\n",
       "   Rocks_or_Mines\n",
       "1  Rock          \n",
       "2  Rock          \n",
       "3  Rock          \n",
       "⋮  ⋮             \n",
       "49 Metal         \n",
       "50 Metal         \n",
       "51 Metal         "
      ]
     },
     "metadata": {},
     "output_type": "display_data"
    },
    {
     "name": "stdout",
     "output_type": "stream",
     "text": [
      "[1] \"Table 7: Prediction Accuracy\"\n"
     ]
    },
    {
     "data": {
      "text/html": [
       "<table>\n",
       "<caption>A tibble: 1 × 3</caption>\n",
       "<thead>\n",
       "\t<tr><th scope=col>.metric</th><th scope=col>.estimator</th><th scope=col>.estimate</th></tr>\n",
       "\t<tr><th scope=col>&lt;chr&gt;</th><th scope=col>&lt;chr&gt;</th><th scope=col>&lt;dbl&gt;</th></tr>\n",
       "</thead>\n",
       "<tbody>\n",
       "\t<tr><td>accuracy</td><td>binary</td><td>0.9019608</td></tr>\n",
       "</tbody>\n",
       "</table>\n"
      ],
      "text/latex": [
       "A tibble: 1 × 3\n",
       "\\begin{tabular}{lll}\n",
       " .metric & .estimator & .estimate\\\\\n",
       " <chr> & <chr> & <dbl>\\\\\n",
       "\\hline\n",
       "\t accuracy & binary & 0.9019608\\\\\n",
       "\\end{tabular}\n"
      ],
      "text/markdown": [
       "\n",
       "A tibble: 1 × 3\n",
       "\n",
       "| .metric &lt;chr&gt; | .estimator &lt;chr&gt; | .estimate &lt;dbl&gt; |\n",
       "|---|---|---|\n",
       "| accuracy | binary | 0.9019608 |\n",
       "\n"
      ],
      "text/plain": [
       "  .metric  .estimator .estimate\n",
       "1 accuracy binary     0.9019608"
      ]
     },
     "metadata": {},
     "output_type": "display_data"
    },
    {
     "name": "stdout",
     "output_type": "stream",
     "text": [
      "[1] \"Table 8: Confusion Matrix of Rocks and Mines\"\n"
     ]
    },
    {
     "data": {
      "text/plain": [
       "          Truth\n",
       "Prediction Rock Metal\n",
       "     Rock    21     2\n",
       "     Metal    3    25"
      ]
     },
     "metadata": {},
     "output_type": "display_data"
    }
   ],
   "source": [
    "# Using the best K value to creat classification model\n",
    "sonar_spec <- nearest_neighbor(weight_func = \"rectangular\", neighbors = 2) %>% \n",
    "    set_engine(\"kknn\") %>%\n",
    "    set_mode(\"classification\")\n",
    "\n",
    "# Creat the fit model for the best K value\n",
    "sonar_fit <- workflow() %>%\n",
    "    add_recipe(sonar_recipe) %>%\n",
    "    add_model(sonar_spec) %>%\n",
    "    fit(data = sonar_training)\n",
    "\n",
    "# Using model to predict testing data\n",
    "sonar_test_predictions <- predict(sonar_fit, sonar_testing) %>%\n",
    "    bind_cols(sonar_testing)\n",
    "print(\"Table 6: Prediction of Sonar Testing DataSet\")\n",
    "sonar_test_predictions\n",
    "\n",
    "# Compute prediction accuracy\n",
    "sonar_prediction_accuracy <- sonar_test_predictions %>%\n",
    "    metrics(truth = Rocks_or_Mines, estimate = .pred_class) %>%\n",
    "    filter(.metric == \"accuracy\")\n",
    "print(\"Table 7: Prediction Accuracy\")\n",
    "sonar_prediction_accuracy\n",
    "\n",
    "# Find confusion matrix of Rocks and Mines\n",
    "confusion <- sonar_test_predictions %>%\n",
    "    conf_mat(truth = Rocks_or_Mines, estimate = .pred_class)\n",
    "print(\"Table 8: Confusion Matrix of Rocks and Mines\")\n",
    "confusion"
   ]
  },
  {
   "cell_type": "markdown",
   "metadata": {},
   "source": [
    "From the Table 7, the accuracy is around 90%, meaning the model is doing great."
   ]
  },
  {
   "cell_type": "markdown",
   "metadata": {},
   "source": [
    "### 2.4 Visualization of Data Analysis"
   ]
  },
  {
   "cell_type": "markdown",
   "metadata": {},
   "source": [
    "Since we have a large number of features, one way we will use to visualize our results is by using a Principal Component Analysis (PCA) plot. A PCA plot is the analysis of the linear components of all existing attributes of a dataset and it is primarily used to better visualize the variations present in a dataset with many variables."
   ]
  },
  {
   "cell_type": "code",
   "execution_count": 11,
   "metadata": {},
   "outputs": [
    {
     "data": {
      "text/plain": [
       "Importance of components:\n",
       "                          PC1    PC2    PC3     PC4     PC5     PC6     PC7\n",
       "Standard deviation     3.4940 3.3672 2.2649 1.84595 1.73328 1.56173 1.40264\n",
       "Proportion of Variance 0.2035 0.1890 0.0855 0.05679 0.05007 0.04065 0.03279\n",
       "Cumulative Proportion  0.2035 0.3924 0.4779 0.53473 0.58480 0.62545 0.65824\n",
       "                           PC8     PC9    PC10    PC11    PC12    PC13    PC14\n",
       "Standard deviation     1.35199 1.24080 1.22256 1.11587 1.06827 1.02381 0.96078\n",
       "Proportion of Variance 0.03046 0.02566 0.02491 0.02075 0.01902 0.01747 0.01538\n",
       "Cumulative Proportion  0.68870 0.71436 0.73928 0.76003 0.77905 0.79652 0.81190\n",
       "                          PC15    PC16    PC17    PC18    PC19    PC20    PC21\n",
       "Standard deviation     0.92557 0.90365 0.86068 0.83737 0.78643 0.76642 0.75263\n",
       "Proportion of Variance 0.01428 0.01361 0.01235 0.01169 0.01031 0.00979 0.00944\n",
       "Cumulative Proportion  0.82618 0.83979 0.85214 0.86382 0.87413 0.88392 0.89336\n",
       "                          PC22   PC23    PC24    PC25    PC26    PC27    PC28\n",
       "Standard deviation     0.72975 0.7099 0.68008 0.65815 0.64639 0.60764 0.56477\n",
       "Proportion of Variance 0.00888 0.0084 0.00771 0.00722 0.00696 0.00615 0.00532\n",
       "Cumulative Proportion  0.90224 0.9106 0.91834 0.92556 0.93253 0.93868 0.94400\n",
       "                          PC29    PC30    PC31    PC32    PC33    PC34    PC35\n",
       "Standard deviation     0.56110 0.54520 0.53453 0.51157 0.47273 0.44947 0.43163\n",
       "Proportion of Variance 0.00525 0.00495 0.00476 0.00436 0.00372 0.00337 0.00311\n",
       "Cumulative Proportion  0.94924 0.95420 0.95896 0.96332 0.96705 0.97041 0.97352\n",
       "                          PC36    PC37    PC38    PC39   PC40    PC41    PC42\n",
       "Standard deviation     0.42650 0.41547 0.38307 0.36290 0.3551 0.33277 0.30813\n",
       "Proportion of Variance 0.00303 0.00288 0.00245 0.00219 0.0021 0.00185 0.00158\n",
       "Cumulative Proportion  0.97655 0.97943 0.98187 0.98407 0.9862 0.98801 0.98960\n",
       "                          PC43    PC44    PC45    PC46    PC47    PC48    PC49\n",
       "Standard deviation     0.28645 0.27466 0.24827 0.23864 0.23726 0.20606 0.18873\n",
       "Proportion of Variance 0.00137 0.00126 0.00103 0.00095 0.00094 0.00071 0.00059\n",
       "Cumulative Proportion  0.99096 0.99222 0.99325 0.99420 0.99514 0.99584 0.99644\n",
       "                          PC50    PC51    PC52    PC53    PC54    PC55    PC56\n",
       "Standard deviation     0.17686 0.17099 0.16868 0.15174 0.14833 0.13897 0.12733\n",
       "Proportion of Variance 0.00052 0.00049 0.00047 0.00038 0.00037 0.00032 0.00027\n",
       "Cumulative Proportion  0.99696 0.99745 0.99792 0.99830 0.99867 0.99899 0.99926\n",
       "                          PC57    PC58    PC59    PC60\n",
       "Standard deviation     0.12160 0.10768 0.10597 0.08128\n",
       "Proportion of Variance 0.00025 0.00019 0.00019 0.00011\n",
       "Cumulative Proportion  0.99951 0.99970 0.99989 1.00000"
      ]
     },
     "metadata": {},
     "output_type": "display_data"
    },
    {
     "name": "stderr",
     "output_type": "stream",
     "text": [
      "Updating HTML index of packages in '.Library'\n",
      "\n",
      "Making 'packages.html' ...\n",
      " done\n",
      "\n"
     ]
    },
    {
     "data": {
      "image/png": "[encoded data removed]",
      "text/plain": [
       "plot without title"
      ]
     },
     "metadata": {
      "image/png": {
       "height": 480,
       "width": 480
      }
     },
     "output_type": "display_data"
    }
   ],
   "source": [
    "# This function returns the results as an object of class ‘prcomp’. We will assign the output to a variable named sonar_pca.\n",
    "sonar_pca <- prcomp(sonar[,c(1:60)], \n",
    "                   center = TRUE, \n",
    "                   scale. = TRUE)\n",
    "\n",
    "# Here we get four principal components named PC1-60. Each of these explains a percentage of the total variation in the dataset.\n",
    "summary(sonar_pca)\n",
    "#str(sonar_pca)\n",
    "\n",
    "install.packages(\"ggfortify\")\n",
    "library(ggfortify)\n",
    "sonar_pca_plot <- autoplot(sonar_pca, data = sonar, colour = 'Rocks_or_Mines') +\n",
    "    labs(colour = \"Material\")\n",
    "sonar_pca_plot\n",
    "\n",
    "# For a better understanding of the linear transformation of features, biplot( ) function also be used to plot PCA.\n",
    "# biplot_sonar_pca <- biplot(sonar_pca)\n",
    "# biplot_sonar_pca\n",
    "\n",
    "# For determining the ideal features which can be justified after performing PCA, the plot( ) function can be used to plot the precomp object.\n",
    "# plot_sonar_pca <- plot(sonar_pca, type = '1')\n",
    "# plot_sonar_pca\n"
   ]
  },
  {
   "cell_type": "markdown",
   "metadata": {},
   "source": [
    "## 3. Discussion"
   ]
  },
  {
   "cell_type": "markdown",
   "metadata": {},
   "source": [
    "Overall, the analysis suggests that given a vector of 60 incidence angle measurements, a KNN model is able to destinguish between rock and metal with a decent degree of accuracy. Specifically the model is able to predict with an accuracy of around 90% on an unseen dataset.\n",
    "\n",
    "This result is a bit unexpected as the distribution of rock and metal measurements do not look optimal for KNN classification. This can be seen in the PCA plot where the rock and metal data points look randomly scattered and does not seem to have distinguishable clusters. It is also unusual how the testing accuracy is noticably higher than the optimal training accuracy, 90.2% and 83.5% respectively. This could be possibly due to overfitting as the optimal $k$ value, $2$ is quite low. However, it should also be noted that the optimal training accuracy of 83.5% is quite similar to the accuracy of 82.7% that was produced from the KNN algorithm in another paper (Gorman and Sejnowski, 1988). This suggests that a \"lucky\" testing set may have been another factor in the high testing accuracy.\n",
    "\n",
    "A training and testing accuracy of 83.5% and 90.2% respectively combined with a very low optimal $k$ value of $2$ creates low confidence in the performance of this KNN model \"in the wild\". Furthermore, these results suggest that KNN may not be the best model for this type of problem and perhaps more sophisticated neural networks can result in much higher accuracies.\n",
    "\n",
    "Dispite these shortcomings, these results show that automating the task of predicting an object's material from sonar measurements is possible and that a KNN model is not the best model for this problem.\n",
    "\n",
    "In addition, it would be interesting to see if a predictive model could be applied to a larger range of material types intead of just rock and metal. Since neural nets were brought up as a potential solution to acheive higher accuracy, it would also be interesting to test the performance of various types of neural networks on this specific classification problem and verify if they truely can provide a significant improvement in accuracy."
   ]
  },
  {
   "cell_type": "markdown",
   "metadata": {},
   "source": [
    "## 4. References"
   ]
  },
  {
   "cell_type": "markdown",
   "metadata": {},
   "source": [
    "**DELETE THIS COMMENT LATER BUT USE SOMEWHAT OF AN APA FORMAT FOR CONSISTANCY**\n",
    "\n",
    "1. Dua, D. and Graff, C. (2019). UCI Machine Learning Repository [http://archive.ics.uci.edu/ml]. Irvine, CA: University of California, School of Information and Computer Science.\n",
    "\n",
    "2. Gorman, R. P., and Sejnowski, T. J. (1988). \"Analysis of Hidden Units in a Layered Network Trained to Classify Sonar Targets\" in Neural Networks, Vol. 1, pp. 75-89.\n",
    "\n"
   ]
  },
  {
   "cell_type": "code",
   "execution_count": null,
   "metadata": {},
   "outputs": [],
   "source": []
  }
 ],
 "metadata": {
  "kernelspec": {
   "display_name": "R",
   "language": "R",
   "name": "ir"
  },
  "language_info": {
   "codemirror_mode": "r",
   "file_extension": ".r",
   "mimetype": "text/x-r-source",
   "name": "R",
   "pygments_lexer": "r",
   "version": "4.0.0"
  }
 },
 "nbformat": 4,
 "nbformat_minor": 4
}
