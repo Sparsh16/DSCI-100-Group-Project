{
 "cells": [
  {
   "cell_type": "markdown",
   "metadata": {},
   "source": [
    "# Group 6 Proposal"
   ]
  },
  {
   "cell_type": "markdown",
   "metadata": {},
   "source": [
    "## **Discriminating Between Sonar Signals Bounced Off a Metal Cylinder and Those Bounced Off a Roughly Cylindrical Rock**"
   ]
  },
  {
   "cell_type": "markdown",
   "metadata": {},
   "source": [
    "## Introduction"
   ]
  },
  {
   "cell_type": "markdown",
   "metadata": {},
   "source": [
    "Sonar is a technique that uses sound propagation characteristics to detect objects by emitting sound pulses and detecting or measuring their return after reflection, used as a means of acoustic location by measuring the echo characteristics of the object. Our project is based on identifying the differences between the sonar returns from an undersea metal cylinder and a cylindrically shaped rock.\n",
    "\n",
    "In our research we are trying to determine if there is any difference between the Sonar signals bounced off a metal cylinder and those bounced off a cylindrical rock. Thus, the question we will try to answer in our project: Is the object that bounces off a chosen sonar signal a metal cylinder or a cylindrical rock?\n",
    "\n",
    "The dataset we will use contains signals bounced off a metal cylinder and a roughly cyclindrical rock obtained from a variety of different aspect angles. The angles spanned from 0 to 90 degrees for the metal cylinder and 0 to 180 degrees for the rock. The dataset does not list the explict aspect angles and states that the angles are not equally spaced apart. Thus each of the angles will be named AA_$n$ where $n$ is the $n$th variable. This is to reflect the fact that the angles do not have an explicit degree. The dataset does not list units for the return signal."
   ]
  },
  {
   "cell_type": "markdown",
   "metadata": {},
   "source": [
    "## Exploratory Analysis"
   ]
  },
  {
   "cell_type": "markdown",
   "metadata": {},
   "source": [
    "In this project, we will be using K-nearest neighbor classification algorithm.\n",
    "\n",
    "First, all the necessary packages were loaded using the library function. Using the read_csv function, the data set was donwloaded from the University of California Irvin's archives.\n",
    "\n",
    "The set.seed function allows the results to be reproducible."
   ]
  },
  {
   "cell_type": "code",
   "execution_count": 146,
   "metadata": {},
   "outputs": [],
   "source": [
    "library(tidyverse)\n",
    "library(tidymodels)\n",
    "library(readxl)\n",
    "library(repr)\n",
    "library(dplyr)\n",
    "options(repr.matrix.max.rows = 6)"
   ]
  },
  {
   "cell_type": "code",
   "execution_count": 147,
   "metadata": {},
   "outputs": [
    {
     "name": "stderr",
     "output_type": "stream",
     "text": [
      "Parsed with column specification:\n",
      "cols(\n",
      "  .default = col_double(),\n",
      "  X61 = \u001b[31mcol_character()\u001b[39m\n",
      ")\n",
      "\n",
      "See spec(...) for full column specifications.\n",
      "\n"
     ]
    },
    {
     "name": "stdout",
     "output_type": "stream",
     "text": [
      "[1] \"Table 1: Sonar Raw Data\"\n"
     ]
    },
    {
     "data": {
      "text/html": [
       "<table>\n",
       "<caption>A spec_tbl_df: 208 × 61</caption>\n",
       "<thead>\n",
       "\t<tr><th scope=col>AA_1</th><th scope=col>AA_2</th><th scope=col>AA_3</th><th scope=col>AA_4</th><th scope=col>AA_5</th><th scope=col>AA_6</th><th scope=col>AA_7</th><th scope=col>AA_8</th><th scope=col>AA_9</th><th scope=col>AA_10</th><th scope=col>⋯</th><th scope=col>AA_52</th><th scope=col>AA_53</th><th scope=col>AA_54</th><th scope=col>AA_55</th><th scope=col>AA_56</th><th scope=col>AA_57</th><th scope=col>AA_58</th><th scope=col>AA_59</th><th scope=col>AA_60</th><th scope=col>Rocks_or_Mines</th></tr>\n",
       "\t<tr><th scope=col>&lt;dbl&gt;</th><th scope=col>&lt;dbl&gt;</th><th scope=col>&lt;dbl&gt;</th><th scope=col>&lt;dbl&gt;</th><th scope=col>&lt;dbl&gt;</th><th scope=col>&lt;dbl&gt;</th><th scope=col>&lt;dbl&gt;</th><th scope=col>&lt;dbl&gt;</th><th scope=col>&lt;dbl&gt;</th><th scope=col>&lt;dbl&gt;</th><th scope=col>⋯</th><th scope=col>&lt;dbl&gt;</th><th scope=col>&lt;dbl&gt;</th><th scope=col>&lt;dbl&gt;</th><th scope=col>&lt;dbl&gt;</th><th scope=col>&lt;dbl&gt;</th><th scope=col>&lt;dbl&gt;</th><th scope=col>&lt;dbl&gt;</th><th scope=col>&lt;dbl&gt;</th><th scope=col>&lt;dbl&gt;</th><th scope=col>&lt;fct&gt;</th></tr>\n",
       "</thead>\n",
       "<tbody>\n",
       "\t<tr><td>0.0200</td><td>0.0371</td><td>0.0428</td><td>0.0207</td><td>0.0954</td><td>0.0986</td><td>0.1539</td><td>0.1601</td><td>0.3109</td><td>0.2111</td><td>⋯</td><td>0.0027</td><td>0.0065</td><td>0.0159</td><td>0.0072</td><td>0.0167</td><td>0.0180</td><td>0.0084</td><td>0.0090</td><td>0.0032</td><td>R</td></tr>\n",
       "\t<tr><td>0.0453</td><td>0.0523</td><td>0.0843</td><td>0.0689</td><td>0.1183</td><td>0.2583</td><td>0.2156</td><td>0.3481</td><td>0.3337</td><td>0.2872</td><td>⋯</td><td>0.0084</td><td>0.0089</td><td>0.0048</td><td>0.0094</td><td>0.0191</td><td>0.0140</td><td>0.0049</td><td>0.0052</td><td>0.0044</td><td>R</td></tr>\n",
       "\t<tr><td>0.0262</td><td>0.0582</td><td>0.1099</td><td>0.1083</td><td>0.0974</td><td>0.2280</td><td>0.2431</td><td>0.3771</td><td>0.5598</td><td>0.6194</td><td>⋯</td><td>0.0232</td><td>0.0166</td><td>0.0095</td><td>0.0180</td><td>0.0244</td><td>0.0316</td><td>0.0164</td><td>0.0095</td><td>0.0078</td><td>R</td></tr>\n",
       "\t<tr><td>⋮</td><td>⋮</td><td>⋮</td><td>⋮</td><td>⋮</td><td>⋮</td><td>⋮</td><td>⋮</td><td>⋮</td><td>⋮</td><td>⋱</td><td>⋮</td><td>⋮</td><td>⋮</td><td>⋮</td><td>⋮</td><td>⋮</td><td>⋮</td><td>⋮</td><td>⋮</td><td>⋮</td></tr>\n",
       "\t<tr><td>0.0522</td><td>0.0437</td><td>0.0180</td><td>0.0292</td><td>0.0351</td><td>0.1171</td><td>0.1257</td><td>0.1178</td><td>0.1258</td><td>0.2529</td><td>⋯</td><td>0.0160</td><td>0.0029</td><td>0.0051</td><td>0.0062</td><td>0.0089</td><td>0.0140</td><td>0.0138</td><td>0.0077</td><td>0.0031</td><td>M</td></tr>\n",
       "\t<tr><td>0.0303</td><td>0.0353</td><td>0.0490</td><td>0.0608</td><td>0.0167</td><td>0.1354</td><td>0.1465</td><td>0.1123</td><td>0.1945</td><td>0.2354</td><td>⋯</td><td>0.0086</td><td>0.0046</td><td>0.0126</td><td>0.0036</td><td>0.0035</td><td>0.0034</td><td>0.0079</td><td>0.0036</td><td>0.0048</td><td>M</td></tr>\n",
       "\t<tr><td>0.0260</td><td>0.0363</td><td>0.0136</td><td>0.0272</td><td>0.0214</td><td>0.0338</td><td>0.0655</td><td>0.1400</td><td>0.1843</td><td>0.2354</td><td>⋯</td><td>0.0146</td><td>0.0129</td><td>0.0047</td><td>0.0039</td><td>0.0061</td><td>0.0040</td><td>0.0036</td><td>0.0061</td><td>0.0115</td><td>M</td></tr>\n",
       "</tbody>\n",
       "</table>\n"
      ],
      "text/latex": [
       "A spec\\_tbl\\_df: 208 × 61\n",
       "\\begin{tabular}{lllllllllllllllllllll}\n",
       " AA\\_1 & AA\\_2 & AA\\_3 & AA\\_4 & AA\\_5 & AA\\_6 & AA\\_7 & AA\\_8 & AA\\_9 & AA\\_10 & ⋯ & AA\\_52 & AA\\_53 & AA\\_54 & AA\\_55 & AA\\_56 & AA\\_57 & AA\\_58 & AA\\_59 & AA\\_60 & Rocks\\_or\\_Mines\\\\\n",
       " <dbl> & <dbl> & <dbl> & <dbl> & <dbl> & <dbl> & <dbl> & <dbl> & <dbl> & <dbl> & ⋯ & <dbl> & <dbl> & <dbl> & <dbl> & <dbl> & <dbl> & <dbl> & <dbl> & <dbl> & <fct>\\\\\n",
       "\\hline\n",
       "\t 0.0200 & 0.0371 & 0.0428 & 0.0207 & 0.0954 & 0.0986 & 0.1539 & 0.1601 & 0.3109 & 0.2111 & ⋯ & 0.0027 & 0.0065 & 0.0159 & 0.0072 & 0.0167 & 0.0180 & 0.0084 & 0.0090 & 0.0032 & R\\\\\n",
       "\t 0.0453 & 0.0523 & 0.0843 & 0.0689 & 0.1183 & 0.2583 & 0.2156 & 0.3481 & 0.3337 & 0.2872 & ⋯ & 0.0084 & 0.0089 & 0.0048 & 0.0094 & 0.0191 & 0.0140 & 0.0049 & 0.0052 & 0.0044 & R\\\\\n",
       "\t 0.0262 & 0.0582 & 0.1099 & 0.1083 & 0.0974 & 0.2280 & 0.2431 & 0.3771 & 0.5598 & 0.6194 & ⋯ & 0.0232 & 0.0166 & 0.0095 & 0.0180 & 0.0244 & 0.0316 & 0.0164 & 0.0095 & 0.0078 & R\\\\\n",
       "\t ⋮ & ⋮ & ⋮ & ⋮ & ⋮ & ⋮ & ⋮ & ⋮ & ⋮ & ⋮ & ⋱ & ⋮ & ⋮ & ⋮ & ⋮ & ⋮ & ⋮ & ⋮ & ⋮ & ⋮ & ⋮\\\\\n",
       "\t 0.0522 & 0.0437 & 0.0180 & 0.0292 & 0.0351 & 0.1171 & 0.1257 & 0.1178 & 0.1258 & 0.2529 & ⋯ & 0.0160 & 0.0029 & 0.0051 & 0.0062 & 0.0089 & 0.0140 & 0.0138 & 0.0077 & 0.0031 & M\\\\\n",
       "\t 0.0303 & 0.0353 & 0.0490 & 0.0608 & 0.0167 & 0.1354 & 0.1465 & 0.1123 & 0.1945 & 0.2354 & ⋯ & 0.0086 & 0.0046 & 0.0126 & 0.0036 & 0.0035 & 0.0034 & 0.0079 & 0.0036 & 0.0048 & M\\\\\n",
       "\t 0.0260 & 0.0363 & 0.0136 & 0.0272 & 0.0214 & 0.0338 & 0.0655 & 0.1400 & 0.1843 & 0.2354 & ⋯ & 0.0146 & 0.0129 & 0.0047 & 0.0039 & 0.0061 & 0.0040 & 0.0036 & 0.0061 & 0.0115 & M\\\\\n",
       "\\end{tabular}\n"
      ],
      "text/markdown": [
       "\n",
       "A spec_tbl_df: 208 × 61\n",
       "\n",
       "| AA_1 &lt;dbl&gt; | AA_2 &lt;dbl&gt; | AA_3 &lt;dbl&gt; | AA_4 &lt;dbl&gt; | AA_5 &lt;dbl&gt; | AA_6 &lt;dbl&gt; | AA_7 &lt;dbl&gt; | AA_8 &lt;dbl&gt; | AA_9 &lt;dbl&gt; | AA_10 &lt;dbl&gt; | ⋯ ⋯ | AA_52 &lt;dbl&gt; | AA_53 &lt;dbl&gt; | AA_54 &lt;dbl&gt; | AA_55 &lt;dbl&gt; | AA_56 &lt;dbl&gt; | AA_57 &lt;dbl&gt; | AA_58 &lt;dbl&gt; | AA_59 &lt;dbl&gt; | AA_60 &lt;dbl&gt; | Rocks_or_Mines &lt;fct&gt; |\n",
       "|---|---|---|---|---|---|---|---|---|---|---|---|---|---|---|---|---|---|---|---|---|\n",
       "| 0.0200 | 0.0371 | 0.0428 | 0.0207 | 0.0954 | 0.0986 | 0.1539 | 0.1601 | 0.3109 | 0.2111 | ⋯ | 0.0027 | 0.0065 | 0.0159 | 0.0072 | 0.0167 | 0.0180 | 0.0084 | 0.0090 | 0.0032 | R |\n",
       "| 0.0453 | 0.0523 | 0.0843 | 0.0689 | 0.1183 | 0.2583 | 0.2156 | 0.3481 | 0.3337 | 0.2872 | ⋯ | 0.0084 | 0.0089 | 0.0048 | 0.0094 | 0.0191 | 0.0140 | 0.0049 | 0.0052 | 0.0044 | R |\n",
       "| 0.0262 | 0.0582 | 0.1099 | 0.1083 | 0.0974 | 0.2280 | 0.2431 | 0.3771 | 0.5598 | 0.6194 | ⋯ | 0.0232 | 0.0166 | 0.0095 | 0.0180 | 0.0244 | 0.0316 | 0.0164 | 0.0095 | 0.0078 | R |\n",
       "| ⋮ | ⋮ | ⋮ | ⋮ | ⋮ | ⋮ | ⋮ | ⋮ | ⋮ | ⋮ | ⋱ | ⋮ | ⋮ | ⋮ | ⋮ | ⋮ | ⋮ | ⋮ | ⋮ | ⋮ | ⋮ |\n",
       "| 0.0522 | 0.0437 | 0.0180 | 0.0292 | 0.0351 | 0.1171 | 0.1257 | 0.1178 | 0.1258 | 0.2529 | ⋯ | 0.0160 | 0.0029 | 0.0051 | 0.0062 | 0.0089 | 0.0140 | 0.0138 | 0.0077 | 0.0031 | M |\n",
       "| 0.0303 | 0.0353 | 0.0490 | 0.0608 | 0.0167 | 0.1354 | 0.1465 | 0.1123 | 0.1945 | 0.2354 | ⋯ | 0.0086 | 0.0046 | 0.0126 | 0.0036 | 0.0035 | 0.0034 | 0.0079 | 0.0036 | 0.0048 | M |\n",
       "| 0.0260 | 0.0363 | 0.0136 | 0.0272 | 0.0214 | 0.0338 | 0.0655 | 0.1400 | 0.1843 | 0.2354 | ⋯ | 0.0146 | 0.0129 | 0.0047 | 0.0039 | 0.0061 | 0.0040 | 0.0036 | 0.0061 | 0.0115 | M |\n",
       "\n"
      ],
      "text/plain": [
       "    AA_1   AA_2   AA_3   AA_4   AA_5   AA_6   AA_7   AA_8   AA_9   AA_10  ⋯\n",
       "1   0.0200 0.0371 0.0428 0.0207 0.0954 0.0986 0.1539 0.1601 0.3109 0.2111 ⋯\n",
       "2   0.0453 0.0523 0.0843 0.0689 0.1183 0.2583 0.2156 0.3481 0.3337 0.2872 ⋯\n",
       "3   0.0262 0.0582 0.1099 0.1083 0.0974 0.2280 0.2431 0.3771 0.5598 0.6194 ⋯\n",
       "⋮   ⋮      ⋮      ⋮      ⋮      ⋮      ⋮      ⋮      ⋮      ⋮      ⋮      ⋱\n",
       "206 0.0522 0.0437 0.0180 0.0292 0.0351 0.1171 0.1257 0.1178 0.1258 0.2529 ⋯\n",
       "207 0.0303 0.0353 0.0490 0.0608 0.0167 0.1354 0.1465 0.1123 0.1945 0.2354 ⋯\n",
       "208 0.0260 0.0363 0.0136 0.0272 0.0214 0.0338 0.0655 0.1400 0.1843 0.2354 ⋯\n",
       "    AA_52  AA_53  AA_54  AA_55  AA_56  AA_57  AA_58  AA_59  AA_60 \n",
       "1   0.0027 0.0065 0.0159 0.0072 0.0167 0.0180 0.0084 0.0090 0.0032\n",
       "2   0.0084 0.0089 0.0048 0.0094 0.0191 0.0140 0.0049 0.0052 0.0044\n",
       "3   0.0232 0.0166 0.0095 0.0180 0.0244 0.0316 0.0164 0.0095 0.0078\n",
       "⋮   ⋮      ⋮      ⋮      ⋮      ⋮      ⋮      ⋮      ⋮      ⋮     \n",
       "206 0.0160 0.0029 0.0051 0.0062 0.0089 0.0140 0.0138 0.0077 0.0031\n",
       "207 0.0086 0.0046 0.0126 0.0036 0.0035 0.0034 0.0079 0.0036 0.0048\n",
       "208 0.0146 0.0129 0.0047 0.0039 0.0061 0.0040 0.0036 0.0061 0.0115\n",
       "    Rocks_or_Mines\n",
       "1   R             \n",
       "2   R             \n",
       "3   R             \n",
       "⋮   ⋮             \n",
       "206 M             \n",
       "207 M             \n",
       "208 M             "
      ]
     },
     "metadata": {},
     "output_type": "display_data"
    }
   ],
   "source": [
    "sonar <- read_csv(\"https://archive.ics.uci.edu/ml/machine-learning-databases/undocumented/connectionist-bench/sonar/sonar.all-data\",\n",
    "                  col_names = FALSE)\n",
    "\n",
    "set.seed(2022)\n",
    "\n",
    "sonar_column_names <- c()\n",
    "for (i  in 1:60) {sonar_column_names <- c(sonar_column_names, paste(\"AA\", as.character(i), sep = \"_\"))}\n",
    "sonar_column_names <- c(sonar_column_names, \"Rocks_or_Mines\")\n",
    "colnames(sonar) <- sonar_column_names\n",
    "\n",
    "sonar <- sonar %>% mutate(Rocks_or_Mines = as_factor(Rocks_or_Mines))\n",
    "print(\"Table 1: Sonar Raw Data\")\n",
    "sonar"
   ]
  },
  {
   "cell_type": "code",
   "execution_count": 148,
   "metadata": {},
   "outputs": [
    {
     "name": "stdout",
     "output_type": "stream",
     "text": [
      "[1] \"Table 2: Sonar Training Dataset\"\n"
     ]
    },
    {
     "data": {
      "text/html": [
       "<table>\n",
       "<caption>A tibble: 157 × 61</caption>\n",
       "<thead>\n",
       "\t<tr><th scope=col>AA_1</th><th scope=col>AA_2</th><th scope=col>AA_3</th><th scope=col>AA_4</th><th scope=col>AA_5</th><th scope=col>AA_6</th><th scope=col>AA_7</th><th scope=col>AA_8</th><th scope=col>AA_9</th><th scope=col>AA_10</th><th scope=col>⋯</th><th scope=col>AA_52</th><th scope=col>AA_53</th><th scope=col>AA_54</th><th scope=col>AA_55</th><th scope=col>AA_56</th><th scope=col>AA_57</th><th scope=col>AA_58</th><th scope=col>AA_59</th><th scope=col>AA_60</th><th scope=col>Rocks_or_Mines</th></tr>\n",
       "\t<tr><th scope=col>&lt;dbl&gt;</th><th scope=col>&lt;dbl&gt;</th><th scope=col>&lt;dbl&gt;</th><th scope=col>&lt;dbl&gt;</th><th scope=col>&lt;dbl&gt;</th><th scope=col>&lt;dbl&gt;</th><th scope=col>&lt;dbl&gt;</th><th scope=col>&lt;dbl&gt;</th><th scope=col>&lt;dbl&gt;</th><th scope=col>&lt;dbl&gt;</th><th scope=col>⋯</th><th scope=col>&lt;dbl&gt;</th><th scope=col>&lt;dbl&gt;</th><th scope=col>&lt;dbl&gt;</th><th scope=col>&lt;dbl&gt;</th><th scope=col>&lt;dbl&gt;</th><th scope=col>&lt;dbl&gt;</th><th scope=col>&lt;dbl&gt;</th><th scope=col>&lt;dbl&gt;</th><th scope=col>&lt;dbl&gt;</th><th scope=col>&lt;fct&gt;</th></tr>\n",
       "</thead>\n",
       "<tbody>\n",
       "\t<tr><td>0.0453</td><td>0.0523</td><td>0.0843</td><td>0.0689</td><td>0.1183</td><td>0.2583</td><td>0.2156</td><td>0.3481</td><td>0.3337</td><td>0.2872</td><td>⋯</td><td>0.0084</td><td>0.0089</td><td>0.0048</td><td>0.0094</td><td>0.0191</td><td>0.0140</td><td>0.0049</td><td>0.0052</td><td>0.0044</td><td>R</td></tr>\n",
       "\t<tr><td>0.0100</td><td>0.0171</td><td>0.0623</td><td>0.0205</td><td>0.0205</td><td>0.0368</td><td>0.1098</td><td>0.1276</td><td>0.0598</td><td>0.1264</td><td>⋯</td><td>0.0121</td><td>0.0036</td><td>0.0150</td><td>0.0085</td><td>0.0073</td><td>0.0050</td><td>0.0044</td><td>0.0040</td><td>0.0117</td><td>R</td></tr>\n",
       "\t<tr><td>0.0762</td><td>0.0666</td><td>0.0481</td><td>0.0394</td><td>0.0590</td><td>0.0649</td><td>0.1209</td><td>0.2467</td><td>0.3564</td><td>0.4459</td><td>⋯</td><td>0.0031</td><td>0.0054</td><td>0.0105</td><td>0.0110</td><td>0.0015</td><td>0.0072</td><td>0.0048</td><td>0.0107</td><td>0.0094</td><td>R</td></tr>\n",
       "\t<tr><td>⋮</td><td>⋮</td><td>⋮</td><td>⋮</td><td>⋮</td><td>⋮</td><td>⋮</td><td>⋮</td><td>⋮</td><td>⋮</td><td>⋱</td><td>⋮</td><td>⋮</td><td>⋮</td><td>⋮</td><td>⋮</td><td>⋮</td><td>⋮</td><td>⋮</td><td>⋮</td><td>⋮</td></tr>\n",
       "\t<tr><td>0.0272</td><td>0.0378</td><td>0.0488</td><td>0.0848</td><td>0.1127</td><td>0.1103</td><td>0.1349</td><td>0.2337</td><td>0.3113</td><td>0.3997</td><td>⋯</td><td>0.0091</td><td>0.0045</td><td>0.0043</td><td>0.0043</td><td>0.0098</td><td>0.0054</td><td>0.0051</td><td>0.0065</td><td>0.0103</td><td>M</td></tr>\n",
       "\t<tr><td>0.0187</td><td>0.0346</td><td>0.0168</td><td>0.0177</td><td>0.0393</td><td>0.1630</td><td>0.2028</td><td>0.1694</td><td>0.2328</td><td>0.2684</td><td>⋯</td><td>0.0116</td><td>0.0098</td><td>0.0199</td><td>0.0033</td><td>0.0101</td><td>0.0065</td><td>0.0115</td><td>0.0193</td><td>0.0157</td><td>M</td></tr>\n",
       "\t<tr><td>0.0260</td><td>0.0363</td><td>0.0136</td><td>0.0272</td><td>0.0214</td><td>0.0338</td><td>0.0655</td><td>0.1400</td><td>0.1843</td><td>0.2354</td><td>⋯</td><td>0.0146</td><td>0.0129</td><td>0.0047</td><td>0.0039</td><td>0.0061</td><td>0.0040</td><td>0.0036</td><td>0.0061</td><td>0.0115</td><td>M</td></tr>\n",
       "</tbody>\n",
       "</table>\n"
      ],
      "text/latex": [
       "A tibble: 157 × 61\n",
       "\\begin{tabular}{lllllllllllllllllllll}\n",
       " AA\\_1 & AA\\_2 & AA\\_3 & AA\\_4 & AA\\_5 & AA\\_6 & AA\\_7 & AA\\_8 & AA\\_9 & AA\\_10 & ⋯ & AA\\_52 & AA\\_53 & AA\\_54 & AA\\_55 & AA\\_56 & AA\\_57 & AA\\_58 & AA\\_59 & AA\\_60 & Rocks\\_or\\_Mines\\\\\n",
       " <dbl> & <dbl> & <dbl> & <dbl> & <dbl> & <dbl> & <dbl> & <dbl> & <dbl> & <dbl> & ⋯ & <dbl> & <dbl> & <dbl> & <dbl> & <dbl> & <dbl> & <dbl> & <dbl> & <dbl> & <fct>\\\\\n",
       "\\hline\n",
       "\t 0.0453 & 0.0523 & 0.0843 & 0.0689 & 0.1183 & 0.2583 & 0.2156 & 0.3481 & 0.3337 & 0.2872 & ⋯ & 0.0084 & 0.0089 & 0.0048 & 0.0094 & 0.0191 & 0.0140 & 0.0049 & 0.0052 & 0.0044 & R\\\\\n",
       "\t 0.0100 & 0.0171 & 0.0623 & 0.0205 & 0.0205 & 0.0368 & 0.1098 & 0.1276 & 0.0598 & 0.1264 & ⋯ & 0.0121 & 0.0036 & 0.0150 & 0.0085 & 0.0073 & 0.0050 & 0.0044 & 0.0040 & 0.0117 & R\\\\\n",
       "\t 0.0762 & 0.0666 & 0.0481 & 0.0394 & 0.0590 & 0.0649 & 0.1209 & 0.2467 & 0.3564 & 0.4459 & ⋯ & 0.0031 & 0.0054 & 0.0105 & 0.0110 & 0.0015 & 0.0072 & 0.0048 & 0.0107 & 0.0094 & R\\\\\n",
       "\t ⋮ & ⋮ & ⋮ & ⋮ & ⋮ & ⋮ & ⋮ & ⋮ & ⋮ & ⋮ & ⋱ & ⋮ & ⋮ & ⋮ & ⋮ & ⋮ & ⋮ & ⋮ & ⋮ & ⋮ & ⋮\\\\\n",
       "\t 0.0272 & 0.0378 & 0.0488 & 0.0848 & 0.1127 & 0.1103 & 0.1349 & 0.2337 & 0.3113 & 0.3997 & ⋯ & 0.0091 & 0.0045 & 0.0043 & 0.0043 & 0.0098 & 0.0054 & 0.0051 & 0.0065 & 0.0103 & M\\\\\n",
       "\t 0.0187 & 0.0346 & 0.0168 & 0.0177 & 0.0393 & 0.1630 & 0.2028 & 0.1694 & 0.2328 & 0.2684 & ⋯ & 0.0116 & 0.0098 & 0.0199 & 0.0033 & 0.0101 & 0.0065 & 0.0115 & 0.0193 & 0.0157 & M\\\\\n",
       "\t 0.0260 & 0.0363 & 0.0136 & 0.0272 & 0.0214 & 0.0338 & 0.0655 & 0.1400 & 0.1843 & 0.2354 & ⋯ & 0.0146 & 0.0129 & 0.0047 & 0.0039 & 0.0061 & 0.0040 & 0.0036 & 0.0061 & 0.0115 & M\\\\\n",
       "\\end{tabular}\n"
      ],
      "text/markdown": [
       "\n",
       "A tibble: 157 × 61\n",
       "\n",
       "| AA_1 &lt;dbl&gt; | AA_2 &lt;dbl&gt; | AA_3 &lt;dbl&gt; | AA_4 &lt;dbl&gt; | AA_5 &lt;dbl&gt; | AA_6 &lt;dbl&gt; | AA_7 &lt;dbl&gt; | AA_8 &lt;dbl&gt; | AA_9 &lt;dbl&gt; | AA_10 &lt;dbl&gt; | ⋯ ⋯ | AA_52 &lt;dbl&gt; | AA_53 &lt;dbl&gt; | AA_54 &lt;dbl&gt; | AA_55 &lt;dbl&gt; | AA_56 &lt;dbl&gt; | AA_57 &lt;dbl&gt; | AA_58 &lt;dbl&gt; | AA_59 &lt;dbl&gt; | AA_60 &lt;dbl&gt; | Rocks_or_Mines &lt;fct&gt; |\n",
       "|---|---|---|---|---|---|---|---|---|---|---|---|---|---|---|---|---|---|---|---|---|\n",
       "| 0.0453 | 0.0523 | 0.0843 | 0.0689 | 0.1183 | 0.2583 | 0.2156 | 0.3481 | 0.3337 | 0.2872 | ⋯ | 0.0084 | 0.0089 | 0.0048 | 0.0094 | 0.0191 | 0.0140 | 0.0049 | 0.0052 | 0.0044 | R |\n",
       "| 0.0100 | 0.0171 | 0.0623 | 0.0205 | 0.0205 | 0.0368 | 0.1098 | 0.1276 | 0.0598 | 0.1264 | ⋯ | 0.0121 | 0.0036 | 0.0150 | 0.0085 | 0.0073 | 0.0050 | 0.0044 | 0.0040 | 0.0117 | R |\n",
       "| 0.0762 | 0.0666 | 0.0481 | 0.0394 | 0.0590 | 0.0649 | 0.1209 | 0.2467 | 0.3564 | 0.4459 | ⋯ | 0.0031 | 0.0054 | 0.0105 | 0.0110 | 0.0015 | 0.0072 | 0.0048 | 0.0107 | 0.0094 | R |\n",
       "| ⋮ | ⋮ | ⋮ | ⋮ | ⋮ | ⋮ | ⋮ | ⋮ | ⋮ | ⋮ | ⋱ | ⋮ | ⋮ | ⋮ | ⋮ | ⋮ | ⋮ | ⋮ | ⋮ | ⋮ | ⋮ |\n",
       "| 0.0272 | 0.0378 | 0.0488 | 0.0848 | 0.1127 | 0.1103 | 0.1349 | 0.2337 | 0.3113 | 0.3997 | ⋯ | 0.0091 | 0.0045 | 0.0043 | 0.0043 | 0.0098 | 0.0054 | 0.0051 | 0.0065 | 0.0103 | M |\n",
       "| 0.0187 | 0.0346 | 0.0168 | 0.0177 | 0.0393 | 0.1630 | 0.2028 | 0.1694 | 0.2328 | 0.2684 | ⋯ | 0.0116 | 0.0098 | 0.0199 | 0.0033 | 0.0101 | 0.0065 | 0.0115 | 0.0193 | 0.0157 | M |\n",
       "| 0.0260 | 0.0363 | 0.0136 | 0.0272 | 0.0214 | 0.0338 | 0.0655 | 0.1400 | 0.1843 | 0.2354 | ⋯ | 0.0146 | 0.0129 | 0.0047 | 0.0039 | 0.0061 | 0.0040 | 0.0036 | 0.0061 | 0.0115 | M |\n",
       "\n"
      ],
      "text/plain": [
       "    AA_1   AA_2   AA_3   AA_4   AA_5   AA_6   AA_7   AA_8   AA_9   AA_10  ⋯\n",
       "1   0.0453 0.0523 0.0843 0.0689 0.1183 0.2583 0.2156 0.3481 0.3337 0.2872 ⋯\n",
       "2   0.0100 0.0171 0.0623 0.0205 0.0205 0.0368 0.1098 0.1276 0.0598 0.1264 ⋯\n",
       "3   0.0762 0.0666 0.0481 0.0394 0.0590 0.0649 0.1209 0.2467 0.3564 0.4459 ⋯\n",
       "⋮   ⋮      ⋮      ⋮      ⋮      ⋮      ⋮      ⋮      ⋮      ⋮      ⋮      ⋱\n",
       "155 0.0272 0.0378 0.0488 0.0848 0.1127 0.1103 0.1349 0.2337 0.3113 0.3997 ⋯\n",
       "156 0.0187 0.0346 0.0168 0.0177 0.0393 0.1630 0.2028 0.1694 0.2328 0.2684 ⋯\n",
       "157 0.0260 0.0363 0.0136 0.0272 0.0214 0.0338 0.0655 0.1400 0.1843 0.2354 ⋯\n",
       "    AA_52  AA_53  AA_54  AA_55  AA_56  AA_57  AA_58  AA_59  AA_60 \n",
       "1   0.0084 0.0089 0.0048 0.0094 0.0191 0.0140 0.0049 0.0052 0.0044\n",
       "2   0.0121 0.0036 0.0150 0.0085 0.0073 0.0050 0.0044 0.0040 0.0117\n",
       "3   0.0031 0.0054 0.0105 0.0110 0.0015 0.0072 0.0048 0.0107 0.0094\n",
       "⋮   ⋮      ⋮      ⋮      ⋮      ⋮      ⋮      ⋮      ⋮      ⋮     \n",
       "155 0.0091 0.0045 0.0043 0.0043 0.0098 0.0054 0.0051 0.0065 0.0103\n",
       "156 0.0116 0.0098 0.0199 0.0033 0.0101 0.0065 0.0115 0.0193 0.0157\n",
       "157 0.0146 0.0129 0.0047 0.0039 0.0061 0.0040 0.0036 0.0061 0.0115\n",
       "    Rocks_or_Mines\n",
       "1   R             \n",
       "2   R             \n",
       "3   R             \n",
       "⋮   ⋮             \n",
       "155 M             \n",
       "156 M             \n",
       "157 M             "
      ]
     },
     "metadata": {},
     "output_type": "display_data"
    },
    {
     "name": "stdout",
     "output_type": "stream",
     "text": [
      "[1] \"Table 3: Sonar Testing Dataset\"\n"
     ]
    },
    {
     "data": {
      "text/html": [
       "<table>\n",
       "<caption>A tibble: 51 × 61</caption>\n",
       "<thead>\n",
       "\t<tr><th scope=col>AA_1</th><th scope=col>AA_2</th><th scope=col>AA_3</th><th scope=col>AA_4</th><th scope=col>AA_5</th><th scope=col>AA_6</th><th scope=col>AA_7</th><th scope=col>AA_8</th><th scope=col>AA_9</th><th scope=col>AA_10</th><th scope=col>⋯</th><th scope=col>AA_52</th><th scope=col>AA_53</th><th scope=col>AA_54</th><th scope=col>AA_55</th><th scope=col>AA_56</th><th scope=col>AA_57</th><th scope=col>AA_58</th><th scope=col>AA_59</th><th scope=col>AA_60</th><th scope=col>Rocks_or_Mines</th></tr>\n",
       "\t<tr><th scope=col>&lt;dbl&gt;</th><th scope=col>&lt;dbl&gt;</th><th scope=col>&lt;dbl&gt;</th><th scope=col>&lt;dbl&gt;</th><th scope=col>&lt;dbl&gt;</th><th scope=col>&lt;dbl&gt;</th><th scope=col>&lt;dbl&gt;</th><th scope=col>&lt;dbl&gt;</th><th scope=col>&lt;dbl&gt;</th><th scope=col>&lt;dbl&gt;</th><th scope=col>⋯</th><th scope=col>&lt;dbl&gt;</th><th scope=col>&lt;dbl&gt;</th><th scope=col>&lt;dbl&gt;</th><th scope=col>&lt;dbl&gt;</th><th scope=col>&lt;dbl&gt;</th><th scope=col>&lt;dbl&gt;</th><th scope=col>&lt;dbl&gt;</th><th scope=col>&lt;dbl&gt;</th><th scope=col>&lt;dbl&gt;</th><th scope=col>&lt;fct&gt;</th></tr>\n",
       "</thead>\n",
       "<tbody>\n",
       "\t<tr><td>0.0200</td><td>0.0371</td><td>0.0428</td><td>0.0207</td><td>0.0954</td><td>0.0986</td><td>0.1539</td><td>0.1601</td><td>0.3109</td><td>0.2111</td><td>⋯</td><td>0.0027</td><td>0.0065</td><td>0.0159</td><td>0.0072</td><td>0.0167</td><td>0.0180</td><td>0.0084</td><td>0.0090</td><td>0.0032</td><td>R</td></tr>\n",
       "\t<tr><td>0.0262</td><td>0.0582</td><td>0.1099</td><td>0.1083</td><td>0.0974</td><td>0.2280</td><td>0.2431</td><td>0.3771</td><td>0.5598</td><td>0.6194</td><td>⋯</td><td>0.0232</td><td>0.0166</td><td>0.0095</td><td>0.0180</td><td>0.0244</td><td>0.0316</td><td>0.0164</td><td>0.0095</td><td>0.0078</td><td>R</td></tr>\n",
       "\t<tr><td>0.0039</td><td>0.0063</td><td>0.0152</td><td>0.0336</td><td>0.0310</td><td>0.0284</td><td>0.0396</td><td>0.0272</td><td>0.0323</td><td>0.0452</td><td>⋯</td><td>0.0062</td><td>0.0120</td><td>0.0052</td><td>0.0056</td><td>0.0093</td><td>0.0042</td><td>0.0003</td><td>0.0053</td><td>0.0036</td><td>R</td></tr>\n",
       "\t<tr><td>⋮</td><td>⋮</td><td>⋮</td><td>⋮</td><td>⋮</td><td>⋮</td><td>⋮</td><td>⋮</td><td>⋮</td><td>⋮</td><td>⋱</td><td>⋮</td><td>⋮</td><td>⋮</td><td>⋮</td><td>⋮</td><td>⋮</td><td>⋮</td><td>⋮</td><td>⋮</td><td>⋮</td></tr>\n",
       "\t<tr><td>0.0323</td><td>0.0101</td><td>0.0298</td><td>0.0564</td><td>0.0760</td><td>0.0958</td><td>0.0990</td><td>0.1018</td><td>0.1030</td><td>0.2154</td><td>⋯</td><td>0.0061</td><td>0.0093</td><td>0.0135</td><td>0.0063</td><td>0.0063</td><td>0.0034</td><td>0.0032</td><td>0.0062</td><td>0.0067</td><td>M</td></tr>\n",
       "\t<tr><td>0.0522</td><td>0.0437</td><td>0.0180</td><td>0.0292</td><td>0.0351</td><td>0.1171</td><td>0.1257</td><td>0.1178</td><td>0.1258</td><td>0.2529</td><td>⋯</td><td>0.0160</td><td>0.0029</td><td>0.0051</td><td>0.0062</td><td>0.0089</td><td>0.0140</td><td>0.0138</td><td>0.0077</td><td>0.0031</td><td>M</td></tr>\n",
       "\t<tr><td>0.0303</td><td>0.0353</td><td>0.0490</td><td>0.0608</td><td>0.0167</td><td>0.1354</td><td>0.1465</td><td>0.1123</td><td>0.1945</td><td>0.2354</td><td>⋯</td><td>0.0086</td><td>0.0046</td><td>0.0126</td><td>0.0036</td><td>0.0035</td><td>0.0034</td><td>0.0079</td><td>0.0036</td><td>0.0048</td><td>M</td></tr>\n",
       "</tbody>\n",
       "</table>\n"
      ],
      "text/latex": [
       "A tibble: 51 × 61\n",
       "\\begin{tabular}{lllllllllllllllllllll}\n",
       " AA\\_1 & AA\\_2 & AA\\_3 & AA\\_4 & AA\\_5 & AA\\_6 & AA\\_7 & AA\\_8 & AA\\_9 & AA\\_10 & ⋯ & AA\\_52 & AA\\_53 & AA\\_54 & AA\\_55 & AA\\_56 & AA\\_57 & AA\\_58 & AA\\_59 & AA\\_60 & Rocks\\_or\\_Mines\\\\\n",
       " <dbl> & <dbl> & <dbl> & <dbl> & <dbl> & <dbl> & <dbl> & <dbl> & <dbl> & <dbl> & ⋯ & <dbl> & <dbl> & <dbl> & <dbl> & <dbl> & <dbl> & <dbl> & <dbl> & <dbl> & <fct>\\\\\n",
       "\\hline\n",
       "\t 0.0200 & 0.0371 & 0.0428 & 0.0207 & 0.0954 & 0.0986 & 0.1539 & 0.1601 & 0.3109 & 0.2111 & ⋯ & 0.0027 & 0.0065 & 0.0159 & 0.0072 & 0.0167 & 0.0180 & 0.0084 & 0.0090 & 0.0032 & R\\\\\n",
       "\t 0.0262 & 0.0582 & 0.1099 & 0.1083 & 0.0974 & 0.2280 & 0.2431 & 0.3771 & 0.5598 & 0.6194 & ⋯ & 0.0232 & 0.0166 & 0.0095 & 0.0180 & 0.0244 & 0.0316 & 0.0164 & 0.0095 & 0.0078 & R\\\\\n",
       "\t 0.0039 & 0.0063 & 0.0152 & 0.0336 & 0.0310 & 0.0284 & 0.0396 & 0.0272 & 0.0323 & 0.0452 & ⋯ & 0.0062 & 0.0120 & 0.0052 & 0.0056 & 0.0093 & 0.0042 & 0.0003 & 0.0053 & 0.0036 & R\\\\\n",
       "\t ⋮ & ⋮ & ⋮ & ⋮ & ⋮ & ⋮ & ⋮ & ⋮ & ⋮ & ⋮ & ⋱ & ⋮ & ⋮ & ⋮ & ⋮ & ⋮ & ⋮ & ⋮ & ⋮ & ⋮ & ⋮\\\\\n",
       "\t 0.0323 & 0.0101 & 0.0298 & 0.0564 & 0.0760 & 0.0958 & 0.0990 & 0.1018 & 0.1030 & 0.2154 & ⋯ & 0.0061 & 0.0093 & 0.0135 & 0.0063 & 0.0063 & 0.0034 & 0.0032 & 0.0062 & 0.0067 & M\\\\\n",
       "\t 0.0522 & 0.0437 & 0.0180 & 0.0292 & 0.0351 & 0.1171 & 0.1257 & 0.1178 & 0.1258 & 0.2529 & ⋯ & 0.0160 & 0.0029 & 0.0051 & 0.0062 & 0.0089 & 0.0140 & 0.0138 & 0.0077 & 0.0031 & M\\\\\n",
       "\t 0.0303 & 0.0353 & 0.0490 & 0.0608 & 0.0167 & 0.1354 & 0.1465 & 0.1123 & 0.1945 & 0.2354 & ⋯ & 0.0086 & 0.0046 & 0.0126 & 0.0036 & 0.0035 & 0.0034 & 0.0079 & 0.0036 & 0.0048 & M\\\\\n",
       "\\end{tabular}\n"
      ],
      "text/markdown": [
       "\n",
       "A tibble: 51 × 61\n",
       "\n",
       "| AA_1 &lt;dbl&gt; | AA_2 &lt;dbl&gt; | AA_3 &lt;dbl&gt; | AA_4 &lt;dbl&gt; | AA_5 &lt;dbl&gt; | AA_6 &lt;dbl&gt; | AA_7 &lt;dbl&gt; | AA_8 &lt;dbl&gt; | AA_9 &lt;dbl&gt; | AA_10 &lt;dbl&gt; | ⋯ ⋯ | AA_52 &lt;dbl&gt; | AA_53 &lt;dbl&gt; | AA_54 &lt;dbl&gt; | AA_55 &lt;dbl&gt; | AA_56 &lt;dbl&gt; | AA_57 &lt;dbl&gt; | AA_58 &lt;dbl&gt; | AA_59 &lt;dbl&gt; | AA_60 &lt;dbl&gt; | Rocks_or_Mines &lt;fct&gt; |\n",
       "|---|---|---|---|---|---|---|---|---|---|---|---|---|---|---|---|---|---|---|---|---|\n",
       "| 0.0200 | 0.0371 | 0.0428 | 0.0207 | 0.0954 | 0.0986 | 0.1539 | 0.1601 | 0.3109 | 0.2111 | ⋯ | 0.0027 | 0.0065 | 0.0159 | 0.0072 | 0.0167 | 0.0180 | 0.0084 | 0.0090 | 0.0032 | R |\n",
       "| 0.0262 | 0.0582 | 0.1099 | 0.1083 | 0.0974 | 0.2280 | 0.2431 | 0.3771 | 0.5598 | 0.6194 | ⋯ | 0.0232 | 0.0166 | 0.0095 | 0.0180 | 0.0244 | 0.0316 | 0.0164 | 0.0095 | 0.0078 | R |\n",
       "| 0.0039 | 0.0063 | 0.0152 | 0.0336 | 0.0310 | 0.0284 | 0.0396 | 0.0272 | 0.0323 | 0.0452 | ⋯ | 0.0062 | 0.0120 | 0.0052 | 0.0056 | 0.0093 | 0.0042 | 0.0003 | 0.0053 | 0.0036 | R |\n",
       "| ⋮ | ⋮ | ⋮ | ⋮ | ⋮ | ⋮ | ⋮ | ⋮ | ⋮ | ⋮ | ⋱ | ⋮ | ⋮ | ⋮ | ⋮ | ⋮ | ⋮ | ⋮ | ⋮ | ⋮ | ⋮ |\n",
       "| 0.0323 | 0.0101 | 0.0298 | 0.0564 | 0.0760 | 0.0958 | 0.0990 | 0.1018 | 0.1030 | 0.2154 | ⋯ | 0.0061 | 0.0093 | 0.0135 | 0.0063 | 0.0063 | 0.0034 | 0.0032 | 0.0062 | 0.0067 | M |\n",
       "| 0.0522 | 0.0437 | 0.0180 | 0.0292 | 0.0351 | 0.1171 | 0.1257 | 0.1178 | 0.1258 | 0.2529 | ⋯ | 0.0160 | 0.0029 | 0.0051 | 0.0062 | 0.0089 | 0.0140 | 0.0138 | 0.0077 | 0.0031 | M |\n",
       "| 0.0303 | 0.0353 | 0.0490 | 0.0608 | 0.0167 | 0.1354 | 0.1465 | 0.1123 | 0.1945 | 0.2354 | ⋯ | 0.0086 | 0.0046 | 0.0126 | 0.0036 | 0.0035 | 0.0034 | 0.0079 | 0.0036 | 0.0048 | M |\n",
       "\n"
      ],
      "text/plain": [
       "   AA_1   AA_2   AA_3   AA_4   AA_5   AA_6   AA_7   AA_8   AA_9   AA_10  ⋯\n",
       "1  0.0200 0.0371 0.0428 0.0207 0.0954 0.0986 0.1539 0.1601 0.3109 0.2111 ⋯\n",
       "2  0.0262 0.0582 0.1099 0.1083 0.0974 0.2280 0.2431 0.3771 0.5598 0.6194 ⋯\n",
       "3  0.0039 0.0063 0.0152 0.0336 0.0310 0.0284 0.0396 0.0272 0.0323 0.0452 ⋯\n",
       "⋮  ⋮      ⋮      ⋮      ⋮      ⋮      ⋮      ⋮      ⋮      ⋮      ⋮      ⋱\n",
       "49 0.0323 0.0101 0.0298 0.0564 0.0760 0.0958 0.0990 0.1018 0.1030 0.2154 ⋯\n",
       "50 0.0522 0.0437 0.0180 0.0292 0.0351 0.1171 0.1257 0.1178 0.1258 0.2529 ⋯\n",
       "51 0.0303 0.0353 0.0490 0.0608 0.0167 0.1354 0.1465 0.1123 0.1945 0.2354 ⋯\n",
       "   AA_52  AA_53  AA_54  AA_55  AA_56  AA_57  AA_58  AA_59  AA_60 \n",
       "1  0.0027 0.0065 0.0159 0.0072 0.0167 0.0180 0.0084 0.0090 0.0032\n",
       "2  0.0232 0.0166 0.0095 0.0180 0.0244 0.0316 0.0164 0.0095 0.0078\n",
       "3  0.0062 0.0120 0.0052 0.0056 0.0093 0.0042 0.0003 0.0053 0.0036\n",
       "⋮  ⋮      ⋮      ⋮      ⋮      ⋮      ⋮      ⋮      ⋮      ⋮     \n",
       "49 0.0061 0.0093 0.0135 0.0063 0.0063 0.0034 0.0032 0.0062 0.0067\n",
       "50 0.0160 0.0029 0.0051 0.0062 0.0089 0.0140 0.0138 0.0077 0.0031\n",
       "51 0.0086 0.0046 0.0126 0.0036 0.0035 0.0034 0.0079 0.0036 0.0048\n",
       "   Rocks_or_Mines\n",
       "1  R             \n",
       "2  R             \n",
       "3  R             \n",
       "⋮  ⋮             \n",
       "49 M             \n",
       "50 M             \n",
       "51 M             "
      ]
     },
     "metadata": {},
     "output_type": "display_data"
    }
   ],
   "source": [
    "sonar_split <- initial_split(sonar, prop = 0.75, strata = Rocks_or_Mines)\n",
    "sonar_training <- training(sonar_split)\n",
    "print(\"Table 2: Sonar Training Dataset\")\n",
    "sonar_training\n",
    "sonar_testing <- testing(sonar_split)\n",
    "print(\"Table 3: Sonar Testing Dataset\")\n",
    "sonar_testing"
   ]
  },
  {
   "cell_type": "markdown",
   "metadata": {},
   "source": [
    "By looking at the data sets, all the columns except Rocks_or_Mines are numerical variables. Rocks_or_Mines is catagorical variable."
   ]
  },
  {
   "cell_type": "markdown",
   "metadata": {},
   "source": [
    "#### Data Summary"
   ]
  },
  {
   "cell_type": "code",
   "execution_count": 149,
   "metadata": {},
   "outputs": [
    {
     "name": "stdout",
     "output_type": "stream",
     "text": [
      "[1] \"Table 4: Observation counts, average values of first five sonar angles for metal and rock objects\"\n"
     ]
    },
    {
     "name": "stderr",
     "output_type": "stream",
     "text": [
      "`summarise()` ungrouping output (override with `.groups` argument)\n",
      "\n"
     ]
    },
    {
     "data": {
      "text/html": [
       "<table>\n",
       "<caption>A tibble: 2 × 7</caption>\n",
       "<thead>\n",
       "\t<tr><th scope=col>Rocks_or_Mines</th><th scope=col>num_observ</th><th scope=col>AA_1_mean</th><th scope=col>AA_2_mean</th><th scope=col>AA_3_mean</th><th scope=col>AA_4_mean</th><th scope=col>AA_5_mean</th></tr>\n",
       "\t<tr><th scope=col>&lt;fct&gt;</th><th scope=col>&lt;int&gt;</th><th scope=col>&lt;dbl&gt;</th><th scope=col>&lt;dbl&gt;</th><th scope=col>&lt;dbl&gt;</th><th scope=col>&lt;dbl&gt;</th><th scope=col>&lt;dbl&gt;</th></tr>\n",
       "</thead>\n",
       "<tbody>\n",
       "\t<tr><td>R</td><td> 97</td><td>0.02249794</td><td>0.03030309</td><td>0.03595052</td><td>0.04144742</td><td>0.06202784</td></tr>\n",
       "\t<tr><td>M</td><td>111</td><td>0.03498919</td><td>0.04554414</td><td>0.05071982</td><td>0.06476757</td><td>0.08671532</td></tr>\n",
       "</tbody>\n",
       "</table>\n"
      ],
      "text/latex": [
       "A tibble: 2 × 7\n",
       "\\begin{tabular}{lllllll}\n",
       " Rocks\\_or\\_Mines & num\\_observ & AA\\_1\\_mean & AA\\_2\\_mean & AA\\_3\\_mean & AA\\_4\\_mean & AA\\_5\\_mean\\\\\n",
       " <fct> & <int> & <dbl> & <dbl> & <dbl> & <dbl> & <dbl>\\\\\n",
       "\\hline\n",
       "\t R &  97 & 0.02249794 & 0.03030309 & 0.03595052 & 0.04144742 & 0.06202784\\\\\n",
       "\t M & 111 & 0.03498919 & 0.04554414 & 0.05071982 & 0.06476757 & 0.08671532\\\\\n",
       "\\end{tabular}\n"
      ],
      "text/markdown": [
       "\n",
       "A tibble: 2 × 7\n",
       "\n",
       "| Rocks_or_Mines &lt;fct&gt; | num_observ &lt;int&gt; | AA_1_mean &lt;dbl&gt; | AA_2_mean &lt;dbl&gt; | AA_3_mean &lt;dbl&gt; | AA_4_mean &lt;dbl&gt; | AA_5_mean &lt;dbl&gt; |\n",
       "|---|---|---|---|---|---|---|\n",
       "| R |  97 | 0.02249794 | 0.03030309 | 0.03595052 | 0.04144742 | 0.06202784 |\n",
       "| M | 111 | 0.03498919 | 0.04554414 | 0.05071982 | 0.06476757 | 0.08671532 |\n",
       "\n"
      ],
      "text/plain": [
       "  Rocks_or_Mines num_observ AA_1_mean  AA_2_mean  AA_3_mean  AA_4_mean \n",
       "1 R               97        0.02249794 0.03030309 0.03595052 0.04144742\n",
       "2 M              111        0.03498919 0.04554414 0.05071982 0.06476757\n",
       "  AA_5_mean \n",
       "1 0.06202784\n",
       "2 0.08671532"
      ]
     },
     "metadata": {},
     "output_type": "display_data"
    }
   ],
   "source": [
    "print(\"Table 4: Observation counts, average values of first five sonar angles for metal and rock objects\")\n",
    "sonar %>%\n",
    "group_by(Rocks_or_Mines) %>%\n",
    "summarize(num_observ = n(), \n",
    "          AA_1_mean = mean(AA_1), \n",
    "          AA_2_mean = mean(AA_2), \n",
    "          AA_3_mean = mean(AA_3), \n",
    "          AA_4_mean = mean(AA_4), \n",
    "          AA_5_mean = mean(AA_5))"
   ]
  },
  {
   "cell_type": "markdown",
   "metadata": {},
   "source": [
    "Although each of the 60 angles are useful when it comes to predicting the material type, due to the large number of angles, only the first five angles shown in table 3 will be used in this analysis.\n",
    "\n",
    "In order to get more information about these variables, we created a histogram to visualize the distribution of return signals of rock and metal."
   ]
  },
  {
   "cell_type": "markdown",
   "metadata": {},
   "source": [
    "#### Exploratory Data Visualization"
   ]
  },
  {
   "cell_type": "code",
   "execution_count": 150,
   "metadata": {},
   "outputs": [
    {
     "data": {
      "image/png": "[encoded data removed]",
      "text/plain": [
       "plot without title"
      ]
     },
     "metadata": {
      "image/png": {
       "height": 480,
       "width": 480
      }
     },
     "output_type": "display_data"
    }
   ],
   "source": [
    "options(repr.plot.width = 8, repr.plot.height = 8)\n",
    "sonar_longer <- pivot_longer(sonar,\n",
    "            cols = AA_1:AA_60,\n",
    "            names_to = \"angle\",\n",
    "            values_to = \"return_measurement\") %>%\n",
    "            filter(angle == \"AA_1\" | angle == \"AA_2\" | angle == \"AA_3\" | angle == \"AA_4\" | angle == \"AA_5\") %>%\n",
    "            mutate(angle = as_factor(angle)) %>%\n",
    "            mutate(Rocks_or_Mines = recode(Rocks_or_Mines, R = \"Rock\", M = \"Metal\"))\n",
    "\n",
    "sonar_longer %>% ggplot(aes(x = return_measurement)) + \n",
    "   geom_histogram(binwidth = 0.01) +\n",
    "   xlab(\"Sonar return signal\") + \n",
    "   ylab(\"Frequency\") +\n",
    "   labs(title = \"Graph 1: Distribution of return signals of rock and metal for first five angles\") +\n",
    "   facet_grid(angle ~ Rocks_or_Mines, scales = \"free\",\n",
    "              switch = \"y\") +\n",
    "   theme(axis.text.x = element_text(angle = 90, hjust = 0.5),\n",
    "        strip.text.y.left = element_text(angle = 0),\n",
    "        text = element_text(size = 20))"
   ]
  },
  {
   "cell_type": "markdown",
   "metadata": {},
   "source": [
    "Analysis from the graph above. XXXXXXXXXXXXXXXX\n",
    "\n",
    "-----------------\n",
    "\n",
    "In order to choose the optimal K value for the KNN classification, we used cross-validation method.\n",
    "\n",
    "The vfold_cv function splits the training data into 5 validation data sets. \n",
    "\n",
    "By calling the nearest_neighbor function, we create a model specification. The weight function specifies \"rectangular\" so that each of the K nearest neighbors gets exactly 1 vote. Rather than specifying a parciular value for neighobrs, they are tuned to identify the best K value. In the set_engine argument, kknn is the R package for performing KNN neighbors classification. Finally, we specify that this is a classification problem with the set_mode function.\n",
    "\n",
    "Next, we create the recipe from the training data set, identifying the Rocks_or_Mines as the target variable and AA_1, AA_2, AA_3, AA_4, and AA_5 as the predictors. We also scale and cetner all the predictors to standardize the size of the sclae effects.\n",
    "\n",
    "Then we create a data analysis workflow from the recipe and model we created earlier. We run the cross-validation and collect the information about the mean and standard error of the classifier’s validation accuracy across the folds. \n",
    "\n",
    "We identify the rows with accuracy value from \".metric\" column and plot the graph the relationship between the estimated accuracies and K values(neighbors)."
   ]
  },
  {
   "cell_type": "code",
   "execution_count": 151,
   "metadata": {},
   "outputs": [
    {
     "name": "stdout",
     "output_type": "stream",
     "text": [
      "[1] \"Table 5: Metrics with Accuracies\"\n"
     ]
    },
    {
     "data": {
      "text/html": [
       "<table>\n",
       "<caption>A tibble: 10 × 7</caption>\n",
       "<thead>\n",
       "\t<tr><th scope=col>neighbors</th><th scope=col>.metric</th><th scope=col>.estimator</th><th scope=col>mean</th><th scope=col>n</th><th scope=col>std_err</th><th scope=col>.config</th></tr>\n",
       "\t<tr><th scope=col>&lt;int&gt;</th><th scope=col>&lt;chr&gt;</th><th scope=col>&lt;chr&gt;</th><th scope=col>&lt;dbl&gt;</th><th scope=col>&lt;int&gt;</th><th scope=col>&lt;dbl&gt;</th><th scope=col>&lt;chr&gt;</th></tr>\n",
       "</thead>\n",
       "<tbody>\n",
       "\t<tr><td>2</td><td>accuracy</td><td>binary</td><td>0.5721640</td><td>5</td><td>0.05613170</td><td>Model01</td></tr>\n",
       "\t<tr><td>4</td><td>accuracy</td><td>binary</td><td>0.5603091</td><td>5</td><td>0.01874359</td><td>Model02</td></tr>\n",
       "\t<tr><td>5</td><td>accuracy</td><td>binary</td><td>0.5609140</td><td>5</td><td>0.02481017</td><td>Model03</td></tr>\n",
       "\t<tr><td>⋮</td><td>⋮</td><td>⋮</td><td>⋮</td><td>⋮</td><td>⋮</td><td>⋮</td></tr>\n",
       "\t<tr><td>11</td><td>accuracy</td><td>binary</td><td>0.6186156</td><td>5</td><td>0.02518032</td><td>Model08</td></tr>\n",
       "\t<tr><td>13</td><td>accuracy</td><td>binary</td><td>0.6381989</td><td>5</td><td>0.04503799</td><td>Model09</td></tr>\n",
       "\t<tr><td>14</td><td>accuracy</td><td>binary</td><td>0.6381989</td><td>5</td><td>0.04503799</td><td>Model10</td></tr>\n",
       "</tbody>\n",
       "</table>\n"
      ],
      "text/latex": [
       "A tibble: 10 × 7\n",
       "\\begin{tabular}{lllllll}\n",
       " neighbors & .metric & .estimator & mean & n & std\\_err & .config\\\\\n",
       " <int> & <chr> & <chr> & <dbl> & <int> & <dbl> & <chr>\\\\\n",
       "\\hline\n",
       "\t 2 & accuracy & binary & 0.5721640 & 5 & 0.05613170 & Model01\\\\\n",
       "\t 4 & accuracy & binary & 0.5603091 & 5 & 0.01874359 & Model02\\\\\n",
       "\t 5 & accuracy & binary & 0.5609140 & 5 & 0.02481017 & Model03\\\\\n",
       "\t ⋮ & ⋮ & ⋮ & ⋮ & ⋮ & ⋮ & ⋮\\\\\n",
       "\t 11 & accuracy & binary & 0.6186156 & 5 & 0.02518032 & Model08\\\\\n",
       "\t 13 & accuracy & binary & 0.6381989 & 5 & 0.04503799 & Model09\\\\\n",
       "\t 14 & accuracy & binary & 0.6381989 & 5 & 0.04503799 & Model10\\\\\n",
       "\\end{tabular}\n"
      ],
      "text/markdown": [
       "\n",
       "A tibble: 10 × 7\n",
       "\n",
       "| neighbors &lt;int&gt; | .metric &lt;chr&gt; | .estimator &lt;chr&gt; | mean &lt;dbl&gt; | n &lt;int&gt; | std_err &lt;dbl&gt; | .config &lt;chr&gt; |\n",
       "|---|---|---|---|---|---|---|\n",
       "| 2 | accuracy | binary | 0.5721640 | 5 | 0.05613170 | Model01 |\n",
       "| 4 | accuracy | binary | 0.5603091 | 5 | 0.01874359 | Model02 |\n",
       "| 5 | accuracy | binary | 0.5609140 | 5 | 0.02481017 | Model03 |\n",
       "| ⋮ | ⋮ | ⋮ | ⋮ | ⋮ | ⋮ | ⋮ |\n",
       "| 11 | accuracy | binary | 0.6186156 | 5 | 0.02518032 | Model08 |\n",
       "| 13 | accuracy | binary | 0.6381989 | 5 | 0.04503799 | Model09 |\n",
       "| 14 | accuracy | binary | 0.6381989 | 5 | 0.04503799 | Model10 |\n",
       "\n"
      ],
      "text/plain": [
       "   neighbors .metric  .estimator mean      n std_err    .config\n",
       "1  2         accuracy binary     0.5721640 5 0.05613170 Model01\n",
       "2  4         accuracy binary     0.5603091 5 0.01874359 Model02\n",
       "3  5         accuracy binary     0.5609140 5 0.02481017 Model03\n",
       "⋮  ⋮         ⋮        ⋮          ⋮         ⋮ ⋮          ⋮      \n",
       "8  11        accuracy binary     0.6186156 5 0.02518032 Model08\n",
       "9  13        accuracy binary     0.6381989 5 0.04503799 Model09\n",
       "10 14        accuracy binary     0.6381989 5 0.04503799 Model10"
      ]
     },
     "metadata": {},
     "output_type": "display_data"
    },
    {
     "data": {
      "image/png": "[encoded data removed]",
      "text/plain": [
       "plot without title"
      ]
     },
     "metadata": {
      "image/png": {
       "height": 480,
       "width": 480
      }
     },
     "output_type": "display_data"
    }
   ],
   "source": [
    "set.seed(2022)\n",
    "sonar_vfold <- vfold_cv(sonar_training, v = 5, strata = Rocks_or_Mines)\n",
    "\n",
    "knn_spec <- nearest_neighbor(weight_func = \"rectangular\", neighbors = tune()) %>%\n",
    "    set_engine(\"kknn\") %>%\n",
    "    set_mode(\"classification\")\n",
    "\n",
    "sonar_recipe <- recipe(Rocks_or_Mines ~ AA_1 + AA_2 + AA_3 + AA_4 + AA_5, data = sonar_training) %>%\n",
    "    step_scale(all_predictors()) %>%\n",
    "    step_center(all_predictors())\n",
    "\n",
    "knn_results <- workflow() %>%\n",
    "    add_recipe(sonar_recipe) %>%\n",
    "    add_model(knn_spec) %>%\n",
    "    tune_grid(resamples = sonar_vfold, grid = 10) %>%\n",
    "    collect_metrics()\n",
    "    \n",
    "accuracies <- knn_results %>%\n",
    "    filter(.metric == \"accuracy\")\n",
    "print(\"Table 5: Metrics with Accuracies\")\n",
    "accuracies\n",
    "\n",
    "accuracy_vs_k <- ggplot(accuracies, aes(x = neighbors, y = mean)) +\n",
    "    geom_point() +\n",
    "    geom_line() +\n",
    "    labs(x = \"Neighbors\", y = \"Accuracy Estimate\") + \n",
    "    ggtitle(\"Graph 2: Estimated Accuracy vs. K values\") +\n",
    "    scale_x_continuous(breaks = seq(0, 20, by = 1)) +\n",
    "    scale_y_continuous(limits = c(0.4, 1.0)) +\n",
    "    theme(plot.title = element_text(hjust = 0.5), \n",
    "          text = element_text(size = 20))\n",
    "\n",
    "accuracy_vs_k"
   ]
  },
  {
   "cell_type": "markdown",
   "metadata": {},
   "source": [
    "According the graph above, we chose K = 13 as the optimal K value because it looks it has the highest accuracy.\n",
    "Now we recreate the KNN classification specification with K = 13 using the training data set and predict the Rocks_or_Mines in the testing data set. "
   ]
  },
  {
   "cell_type": "code",
   "execution_count": 152,
   "metadata": {},
   "outputs": [
    {
     "name": "stdout",
     "output_type": "stream",
     "text": [
      "[1] \"Table 6: Prediction of Sonar Testing Data Set\"\n"
     ]
    },
    {
     "data": {
      "text/html": [
       "<table>\n",
       "<caption>A tibble: 51 × 62</caption>\n",
       "<thead>\n",
       "\t<tr><th scope=col>.pred_class</th><th scope=col>AA_1</th><th scope=col>AA_2</th><th scope=col>AA_3</th><th scope=col>AA_4</th><th scope=col>AA_5</th><th scope=col>AA_6</th><th scope=col>AA_7</th><th scope=col>AA_8</th><th scope=col>AA_9</th><th scope=col>⋯</th><th scope=col>AA_52</th><th scope=col>AA_53</th><th scope=col>AA_54</th><th scope=col>AA_55</th><th scope=col>AA_56</th><th scope=col>AA_57</th><th scope=col>AA_58</th><th scope=col>AA_59</th><th scope=col>AA_60</th><th scope=col>Rocks_or_Mines</th></tr>\n",
       "\t<tr><th scope=col>&lt;fct&gt;</th><th scope=col>&lt;dbl&gt;</th><th scope=col>&lt;dbl&gt;</th><th scope=col>&lt;dbl&gt;</th><th scope=col>&lt;dbl&gt;</th><th scope=col>&lt;dbl&gt;</th><th scope=col>&lt;dbl&gt;</th><th scope=col>&lt;dbl&gt;</th><th scope=col>&lt;dbl&gt;</th><th scope=col>&lt;dbl&gt;</th><th scope=col>⋯</th><th scope=col>&lt;dbl&gt;</th><th scope=col>&lt;dbl&gt;</th><th scope=col>&lt;dbl&gt;</th><th scope=col>&lt;dbl&gt;</th><th scope=col>&lt;dbl&gt;</th><th scope=col>&lt;dbl&gt;</th><th scope=col>&lt;dbl&gt;</th><th scope=col>&lt;dbl&gt;</th><th scope=col>&lt;dbl&gt;</th><th scope=col>&lt;fct&gt;</th></tr>\n",
       "</thead>\n",
       "<tbody>\n",
       "\t<tr><td>M</td><td>0.0200</td><td>0.0371</td><td>0.0428</td><td>0.0207</td><td>0.0954</td><td>0.0986</td><td>0.1539</td><td>0.1601</td><td>0.3109</td><td>⋯</td><td>0.0027</td><td>0.0065</td><td>0.0159</td><td>0.0072</td><td>0.0167</td><td>0.0180</td><td>0.0084</td><td>0.0090</td><td>0.0032</td><td>R</td></tr>\n",
       "\t<tr><td>M</td><td>0.0262</td><td>0.0582</td><td>0.1099</td><td>0.1083</td><td>0.0974</td><td>0.2280</td><td>0.2431</td><td>0.3771</td><td>0.5598</td><td>⋯</td><td>0.0232</td><td>0.0166</td><td>0.0095</td><td>0.0180</td><td>0.0244</td><td>0.0316</td><td>0.0164</td><td>0.0095</td><td>0.0078</td><td>R</td></tr>\n",
       "\t<tr><td>R</td><td>0.0039</td><td>0.0063</td><td>0.0152</td><td>0.0336</td><td>0.0310</td><td>0.0284</td><td>0.0396</td><td>0.0272</td><td>0.0323</td><td>⋯</td><td>0.0062</td><td>0.0120</td><td>0.0052</td><td>0.0056</td><td>0.0093</td><td>0.0042</td><td>0.0003</td><td>0.0053</td><td>0.0036</td><td>R</td></tr>\n",
       "\t<tr><td>⋮</td><td>⋮</td><td>⋮</td><td>⋮</td><td>⋮</td><td>⋮</td><td>⋮</td><td>⋮</td><td>⋮</td><td>⋮</td><td>⋱</td><td>⋮</td><td>⋮</td><td>⋮</td><td>⋮</td><td>⋮</td><td>⋮</td><td>⋮</td><td>⋮</td><td>⋮</td><td>⋮</td></tr>\n",
       "\t<tr><td>M</td><td>0.0323</td><td>0.0101</td><td>0.0298</td><td>0.0564</td><td>0.0760</td><td>0.0958</td><td>0.0990</td><td>0.1018</td><td>0.1030</td><td>⋯</td><td>0.0061</td><td>0.0093</td><td>0.0135</td><td>0.0063</td><td>0.0063</td><td>0.0034</td><td>0.0032</td><td>0.0062</td><td>0.0067</td><td>M</td></tr>\n",
       "\t<tr><td>R</td><td>0.0522</td><td>0.0437</td><td>0.0180</td><td>0.0292</td><td>0.0351</td><td>0.1171</td><td>0.1257</td><td>0.1178</td><td>0.1258</td><td>⋯</td><td>0.0160</td><td>0.0029</td><td>0.0051</td><td>0.0062</td><td>0.0089</td><td>0.0140</td><td>0.0138</td><td>0.0077</td><td>0.0031</td><td>M</td></tr>\n",
       "\t<tr><td>M</td><td>0.0303</td><td>0.0353</td><td>0.0490</td><td>0.0608</td><td>0.0167</td><td>0.1354</td><td>0.1465</td><td>0.1123</td><td>0.1945</td><td>⋯</td><td>0.0086</td><td>0.0046</td><td>0.0126</td><td>0.0036</td><td>0.0035</td><td>0.0034</td><td>0.0079</td><td>0.0036</td><td>0.0048</td><td>M</td></tr>\n",
       "</tbody>\n",
       "</table>\n"
      ],
      "text/latex": [
       "A tibble: 51 × 62\n",
       "\\begin{tabular}{lllllllllllllllllllll}\n",
       " .pred\\_class & AA\\_1 & AA\\_2 & AA\\_3 & AA\\_4 & AA\\_5 & AA\\_6 & AA\\_7 & AA\\_8 & AA\\_9 & ⋯ & AA\\_52 & AA\\_53 & AA\\_54 & AA\\_55 & AA\\_56 & AA\\_57 & AA\\_58 & AA\\_59 & AA\\_60 & Rocks\\_or\\_Mines\\\\\n",
       " <fct> & <dbl> & <dbl> & <dbl> & <dbl> & <dbl> & <dbl> & <dbl> & <dbl> & <dbl> & ⋯ & <dbl> & <dbl> & <dbl> & <dbl> & <dbl> & <dbl> & <dbl> & <dbl> & <dbl> & <fct>\\\\\n",
       "\\hline\n",
       "\t M & 0.0200 & 0.0371 & 0.0428 & 0.0207 & 0.0954 & 0.0986 & 0.1539 & 0.1601 & 0.3109 & ⋯ & 0.0027 & 0.0065 & 0.0159 & 0.0072 & 0.0167 & 0.0180 & 0.0084 & 0.0090 & 0.0032 & R\\\\\n",
       "\t M & 0.0262 & 0.0582 & 0.1099 & 0.1083 & 0.0974 & 0.2280 & 0.2431 & 0.3771 & 0.5598 & ⋯ & 0.0232 & 0.0166 & 0.0095 & 0.0180 & 0.0244 & 0.0316 & 0.0164 & 0.0095 & 0.0078 & R\\\\\n",
       "\t R & 0.0039 & 0.0063 & 0.0152 & 0.0336 & 0.0310 & 0.0284 & 0.0396 & 0.0272 & 0.0323 & ⋯ & 0.0062 & 0.0120 & 0.0052 & 0.0056 & 0.0093 & 0.0042 & 0.0003 & 0.0053 & 0.0036 & R\\\\\n",
       "\t ⋮ & ⋮ & ⋮ & ⋮ & ⋮ & ⋮ & ⋮ & ⋮ & ⋮ & ⋮ & ⋱ & ⋮ & ⋮ & ⋮ & ⋮ & ⋮ & ⋮ & ⋮ & ⋮ & ⋮ & ⋮\\\\\n",
       "\t M & 0.0323 & 0.0101 & 0.0298 & 0.0564 & 0.0760 & 0.0958 & 0.0990 & 0.1018 & 0.1030 & ⋯ & 0.0061 & 0.0093 & 0.0135 & 0.0063 & 0.0063 & 0.0034 & 0.0032 & 0.0062 & 0.0067 & M\\\\\n",
       "\t R & 0.0522 & 0.0437 & 0.0180 & 0.0292 & 0.0351 & 0.1171 & 0.1257 & 0.1178 & 0.1258 & ⋯ & 0.0160 & 0.0029 & 0.0051 & 0.0062 & 0.0089 & 0.0140 & 0.0138 & 0.0077 & 0.0031 & M\\\\\n",
       "\t M & 0.0303 & 0.0353 & 0.0490 & 0.0608 & 0.0167 & 0.1354 & 0.1465 & 0.1123 & 0.1945 & ⋯ & 0.0086 & 0.0046 & 0.0126 & 0.0036 & 0.0035 & 0.0034 & 0.0079 & 0.0036 & 0.0048 & M\\\\\n",
       "\\end{tabular}\n"
      ],
      "text/markdown": [
       "\n",
       "A tibble: 51 × 62\n",
       "\n",
       "| .pred_class &lt;fct&gt; | AA_1 &lt;dbl&gt; | AA_2 &lt;dbl&gt; | AA_3 &lt;dbl&gt; | AA_4 &lt;dbl&gt; | AA_5 &lt;dbl&gt; | AA_6 &lt;dbl&gt; | AA_7 &lt;dbl&gt; | AA_8 &lt;dbl&gt; | AA_9 &lt;dbl&gt; | ⋯ ⋯ | AA_52 &lt;dbl&gt; | AA_53 &lt;dbl&gt; | AA_54 &lt;dbl&gt; | AA_55 &lt;dbl&gt; | AA_56 &lt;dbl&gt; | AA_57 &lt;dbl&gt; | AA_58 &lt;dbl&gt; | AA_59 &lt;dbl&gt; | AA_60 &lt;dbl&gt; | Rocks_or_Mines &lt;fct&gt; |\n",
       "|---|---|---|---|---|---|---|---|---|---|---|---|---|---|---|---|---|---|---|---|---|\n",
       "| M | 0.0200 | 0.0371 | 0.0428 | 0.0207 | 0.0954 | 0.0986 | 0.1539 | 0.1601 | 0.3109 | ⋯ | 0.0027 | 0.0065 | 0.0159 | 0.0072 | 0.0167 | 0.0180 | 0.0084 | 0.0090 | 0.0032 | R |\n",
       "| M | 0.0262 | 0.0582 | 0.1099 | 0.1083 | 0.0974 | 0.2280 | 0.2431 | 0.3771 | 0.5598 | ⋯ | 0.0232 | 0.0166 | 0.0095 | 0.0180 | 0.0244 | 0.0316 | 0.0164 | 0.0095 | 0.0078 | R |\n",
       "| R | 0.0039 | 0.0063 | 0.0152 | 0.0336 | 0.0310 | 0.0284 | 0.0396 | 0.0272 | 0.0323 | ⋯ | 0.0062 | 0.0120 | 0.0052 | 0.0056 | 0.0093 | 0.0042 | 0.0003 | 0.0053 | 0.0036 | R |\n",
       "| ⋮ | ⋮ | ⋮ | ⋮ | ⋮ | ⋮ | ⋮ | ⋮ | ⋮ | ⋮ | ⋱ | ⋮ | ⋮ | ⋮ | ⋮ | ⋮ | ⋮ | ⋮ | ⋮ | ⋮ | ⋮ |\n",
       "| M | 0.0323 | 0.0101 | 0.0298 | 0.0564 | 0.0760 | 0.0958 | 0.0990 | 0.1018 | 0.1030 | ⋯ | 0.0061 | 0.0093 | 0.0135 | 0.0063 | 0.0063 | 0.0034 | 0.0032 | 0.0062 | 0.0067 | M |\n",
       "| R | 0.0522 | 0.0437 | 0.0180 | 0.0292 | 0.0351 | 0.1171 | 0.1257 | 0.1178 | 0.1258 | ⋯ | 0.0160 | 0.0029 | 0.0051 | 0.0062 | 0.0089 | 0.0140 | 0.0138 | 0.0077 | 0.0031 | M |\n",
       "| M | 0.0303 | 0.0353 | 0.0490 | 0.0608 | 0.0167 | 0.1354 | 0.1465 | 0.1123 | 0.1945 | ⋯ | 0.0086 | 0.0046 | 0.0126 | 0.0036 | 0.0035 | 0.0034 | 0.0079 | 0.0036 | 0.0048 | M |\n",
       "\n"
      ],
      "text/plain": [
       "   .pred_class AA_1   AA_2   AA_3   AA_4   AA_5   AA_6   AA_7   AA_8   AA_9   ⋯\n",
       "1  M           0.0200 0.0371 0.0428 0.0207 0.0954 0.0986 0.1539 0.1601 0.3109 ⋯\n",
       "2  M           0.0262 0.0582 0.1099 0.1083 0.0974 0.2280 0.2431 0.3771 0.5598 ⋯\n",
       "3  R           0.0039 0.0063 0.0152 0.0336 0.0310 0.0284 0.0396 0.0272 0.0323 ⋯\n",
       "⋮  ⋮           ⋮      ⋮      ⋮      ⋮      ⋮      ⋮      ⋮      ⋮      ⋮      ⋱\n",
       "49 M           0.0323 0.0101 0.0298 0.0564 0.0760 0.0958 0.0990 0.1018 0.1030 ⋯\n",
       "50 R           0.0522 0.0437 0.0180 0.0292 0.0351 0.1171 0.1257 0.1178 0.1258 ⋯\n",
       "51 M           0.0303 0.0353 0.0490 0.0608 0.0167 0.1354 0.1465 0.1123 0.1945 ⋯\n",
       "   AA_52  AA_53  AA_54  AA_55  AA_56  AA_57  AA_58  AA_59  AA_60 \n",
       "1  0.0027 0.0065 0.0159 0.0072 0.0167 0.0180 0.0084 0.0090 0.0032\n",
       "2  0.0232 0.0166 0.0095 0.0180 0.0244 0.0316 0.0164 0.0095 0.0078\n",
       "3  0.0062 0.0120 0.0052 0.0056 0.0093 0.0042 0.0003 0.0053 0.0036\n",
       "⋮  ⋮      ⋮      ⋮      ⋮      ⋮      ⋮      ⋮      ⋮      ⋮     \n",
       "49 0.0061 0.0093 0.0135 0.0063 0.0063 0.0034 0.0032 0.0062 0.0067\n",
       "50 0.0160 0.0029 0.0051 0.0062 0.0089 0.0140 0.0138 0.0077 0.0031\n",
       "51 0.0086 0.0046 0.0126 0.0036 0.0035 0.0034 0.0079 0.0036 0.0048\n",
       "   Rocks_or_Mines\n",
       "1  R             \n",
       "2  R             \n",
       "3  R             \n",
       "⋮  ⋮             \n",
       "49 M             \n",
       "50 M             \n",
       "51 M             "
      ]
     },
     "metadata": {},
     "output_type": "display_data"
    },
    {
     "name": "stdout",
     "output_type": "stream",
     "text": [
      "[1] \"Table 7: Prediction Accuracy\"\n"
     ]
    },
    {
     "data": {
      "text/html": [
       "<table>\n",
       "<caption>A tibble: 1 × 3</caption>\n",
       "<thead>\n",
       "\t<tr><th scope=col>.metric</th><th scope=col>.estimator</th><th scope=col>.estimate</th></tr>\n",
       "\t<tr><th scope=col>&lt;chr&gt;</th><th scope=col>&lt;chr&gt;</th><th scope=col>&lt;dbl&gt;</th></tr>\n",
       "</thead>\n",
       "<tbody>\n",
       "\t<tr><td>accuracy</td><td>binary</td><td>0.6078431</td></tr>\n",
       "</tbody>\n",
       "</table>\n"
      ],
      "text/latex": [
       "A tibble: 1 × 3\n",
       "\\begin{tabular}{lll}\n",
       " .metric & .estimator & .estimate\\\\\n",
       " <chr> & <chr> & <dbl>\\\\\n",
       "\\hline\n",
       "\t accuracy & binary & 0.6078431\\\\\n",
       "\\end{tabular}\n"
      ],
      "text/markdown": [
       "\n",
       "A tibble: 1 × 3\n",
       "\n",
       "| .metric &lt;chr&gt; | .estimator &lt;chr&gt; | .estimate &lt;dbl&gt; |\n",
       "|---|---|---|\n",
       "| accuracy | binary | 0.6078431 |\n",
       "\n"
      ],
      "text/plain": [
       "  .metric  .estimator .estimate\n",
       "1 accuracy binary     0.6078431"
      ]
     },
     "metadata": {},
     "output_type": "display_data"
    },
    {
     "name": "stdout",
     "output_type": "stream",
     "text": [
      "[1] \"Table 8: Confusion Matrix of Rocks and Mines\"\n"
     ]
    },
    {
     "data": {
      "text/plain": [
       "          Truth\n",
       "Prediction  R  M\n",
       "         R 14 10\n",
       "         M 10 17"
      ]
     },
     "metadata": {},
     "output_type": "display_data"
    }
   ],
   "source": [
    "sonar_spec <- nearest_neighbor(weight_func = \"rectangular\", neighbors = 13) %>% \n",
    "    set_engine(\"kknn\") %>%\n",
    "    set_mode(\"classification\")\n",
    "\n",
    "sonar_fit <- workflow() %>%\n",
    "    add_recipe(sonar_recipe) %>%\n",
    "    add_model(sonar_spec) %>%\n",
    "    fit(data = sonar_training)\n",
    "\n",
    "sonar_test_predictions <- predict(sonar_fit, sonar_testing) %>%\n",
    "    bind_cols(sonar_testing)\n",
    "print(\"Table 6: Prediction of Sonar Testing Data Set\")\n",
    "sonar_test_predictions\n",
    "\n",
    "sonar_prediction_accuracy <- sonar_test_predictions %>%\n",
    "    metrics(truth = Rocks_or_Mines, estimate = .pred_class) %>%\n",
    "    filter(.metric == \"accuracy\")\n",
    "print(\"Table 7: Prediction Accuracy\")\n",
    "sonar_prediction_accuracy\n",
    "\n",
    "confusion <- sonar_test_predictions %>%\n",
    "    conf_mat(truth = Rocks_or_Mines, estimate = .pred_class)\n",
    "print(\"Table 8: Confusion Matrix of Rocks and Mines\")\n",
    "confusion"
   ]
  },
  {
   "cell_type": "markdown",
   "metadata": {},
   "source": [
    "## Methods"
   ]
  },
  {
   "cell_type": "markdown",
   "metadata": {},
   "source": [
    "To conduct are data analysis, we will use all the columns. Even though it is not ideal to use all the columns for data analysis in many cases, in our case the columns named AA_1 to AA_60 represent 60 different features used to identify whether the object that bounces of a chosen sonar signal a metal cylinder or a cylindrical rock. Each of these 60 features are equally important to discriminate between the sonar signals.\n",
    "\n",
    "Since we have a large number of features, one way we will use to visualize our results is by using a Principal Component Analysis (PCA) plot. A PCA plot is the analysis of the linear components of all existing attributes of a data set and it is primarily used to better visualize the variations present in a dataset with many variables."
   ]
  },
  {
   "cell_type": "markdown",
   "metadata": {},
   "source": [
    "## Expected Outcomes and Significance"
   ]
  },
  {
   "cell_type": "markdown",
   "metadata": {},
   "source": [
    "We expect that there is some clustering pattern with sonar measurements and a KNN clustering model should be able to reasonably predict if an unknown object is metal or rock given a vector of 60 sonar measurements.\n",
    "\n",
    "\n",
    "Predicting the object's material from sonar measurements is usually done by humans. The findings listed above could show that this process can be automated and perhaps be done with higher accuracy.\n",
    "\n",
    "\n",
    "This dataset only has metal and rock as object categories. It would be interesting to see if clustering model could be applied to a larger range of material types.\n",
    "\n",
    "The clustering model will have an accuracy. It would also be interesting to see if other types of predictive models could be trained to have a higher accuracy."
   ]
  },
  {
   "cell_type": "code",
   "execution_count": null,
   "metadata": {},
   "outputs": [],
   "source": []
  },
  {
   "cell_type": "code",
   "execution_count": null,
   "metadata": {},
   "outputs": [],
   "source": []
  }
 ],
 "metadata": {
  "kernelspec": {
   "display_name": "R",
   "language": "R",
   "name": "ir"
  },
  "language_info": {
   "codemirror_mode": "r",
   "file_extension": ".r",
   "mimetype": "text/x-r-source",
   "name": "R",
   "pygments_lexer": "r",
   "version": "4.0.0"
  }
 },
 "nbformat": 4,
 "nbformat_minor": 4
}
